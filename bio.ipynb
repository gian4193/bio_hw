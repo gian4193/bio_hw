{
  "nbformat": 4,
  "nbformat_minor": 0,
  "metadata": {
    "colab": {
      "name": "bio.ipynb",
      "provenance": [],
      "collapsed_sections": [],
      "authorship_tag": "ABX9TyMSjprS2TnXqqK3CXbMeOVE",
      "include_colab_link": true
    },
    "kernelspec": {
      "name": "python3",
      "display_name": "Python 3"
    }
  },
  "cells": [
    {
      "cell_type": "markdown",
      "metadata": {
        "id": "view-in-github",
        "colab_type": "text"
      },
      "source": [
        "<a href=\"https://colab.research.google.com/github/gian4193/bio_hw/blob/master/bio.ipynb\" target=\"_parent\"><img src=\"https://colab.research.google.com/assets/colab-badge.svg\" alt=\"Open In Colab\"/></a>"
      ]
    },
    {
      "cell_type": "code",
      "metadata": {
        "id": "1bJSHtZ4tX4C",
        "colab_type": "code",
        "colab": {
          "base_uri": "https://localhost:8080/",
          "height": 125
        },
        "outputId": "aa90ea7b-8de8-4706-ad7d-4a8fdc7235b1"
      },
      "source": [
        "from google.colab import drive\n",
        "drive.mount('/content/gdrive')"
      ],
      "execution_count": null,
      "outputs": [
        {
          "output_type": "stream",
          "text": [
            "Go to this URL in a browser: https://accounts.google.com/o/oauth2/auth?client_id=947318989803-6bn6qk8qdgf4n4g3pfee6491hc0brc4i.apps.googleusercontent.com&redirect_uri=urn%3aietf%3awg%3aoauth%3a2.0%3aoob&scope=email%20https%3a%2f%2fwww.googleapis.com%2fauth%2fdocs.test%20https%3a%2f%2fwww.googleapis.com%2fauth%2fdrive%20https%3a%2f%2fwww.googleapis.com%2fauth%2fdrive.photos.readonly%20https%3a%2f%2fwww.googleapis.com%2fauth%2fpeopleapi.readonly&response_type=code\n",
            "\n",
            "Enter your authorization code:\n",
            "··········\n",
            "Mounted at /content/gdrive\n"
          ],
          "name": "stdout"
        }
      ]
    },
    {
      "cell_type": "code",
      "metadata": {
        "id": "3wkRgY_NTv35",
        "colab_type": "code",
        "colab": {
          "base_uri": "https://localhost:8080/",
          "height": 34
        },
        "outputId": "4c533c03-356a-4c6c-a2ec-ebc6f1c9ce11"
      },
      "source": [
        "!pip install psutil"
      ],
      "execution_count": null,
      "outputs": [
        {
          "output_type": "stream",
          "text": [
            "Requirement already satisfied: psutil in /usr/local/lib/python3.6/dist-packages (5.4.8)\n"
          ],
          "name": "stdout"
        }
      ]
    },
    {
      "cell_type": "code",
      "metadata": {
        "id": "gtSXeSeqt0kT",
        "colab_type": "code",
        "colab": {
          "base_uri": "https://localhost:8080/",
          "height": 247
        },
        "outputId": "104baaa5-c711-4b9c-bc83-8cd3ea2df056"
      },
      "source": [
        "import os\n",
        "os.listdir('/content/gdrive/My Drive/')"
      ],
      "execution_count": null,
      "outputs": [
        {
          "output_type": "execute_result",
          "data": {
            "text/plain": [
              "['ratings.csv',\n",
              " 'movies.csv',\n",
              " 'GRCh38_latest_genomic(1).fna',\n",
              " 'Colab Notebooks',\n",
              " 'vertebral',\n",
              " 'test_image',\n",
              " 'IIR借閱紀錄.gsheet',\n",
              " 'segmentation_hw_result',\n",
              " 'trained_weight',\n",
              " 'mseloss_segmentation_net.pth',\n",
              " 'cifar_net_resnet18.pth',\n",
              " 'cifar_net_resnet34.pth',\n",
              " '智慧安全行車導航輔助系統.gslides']"
            ]
          },
          "metadata": {
            "tags": []
          },
          "execution_count": 3
        }
      ]
    },
    {
      "cell_type": "code",
      "metadata": {
        "id": "WsFHZo_1atyr",
        "colab_type": "code",
        "colab": {}
      },
      "source": [
        "import time"
      ],
      "execution_count": null,
      "outputs": []
    },
    {
      "cell_type": "markdown",
      "metadata": {
        "id": "gIrI07cyRZAV",
        "colab_type": "text"
      },
      "source": [
        "#100000 是加title長度 扣 \\n"
      ]
    },
    {
      "cell_type": "code",
      "metadata": {
        "id": "9i1QzcaTsyKA",
        "colab_type": "code",
        "colab": {
          "base_uri": "https://localhost:8080/",
          "height": 34
        },
        "outputId": "bb671512-f553-4f9d-df52-51ebf1f851e1"
      },
      "source": [
        "with open('/content/gdrive/My Drive/GRCh38_latest_genomic(1).fna') as file: #NC_000006.12 to NC_000007.14\n",
        "  read_range = 0\n",
        "  str_len=0\n",
        "  line = 0\n",
        "  target_str=\"\"\n",
        "  start_add=0\n",
        "  for f in file:      #ttggtaccat \n",
        "    if \"NC_000006.12 Homo sapiens chromosome 6, GRCh38.p13 Primary Assembly\" in f:\n",
        "      read_range = 1\n",
        "    if \"NC_000007.14 Homo sapiens chromosome 7, GRCh38.p13 Primary Assembly\" in f:\n",
        "      print(\"end\")\n",
        "      break\n",
        "    if read_range == 1:\n",
        "      f=f.replace(\"\\n\",\"\")\n",
        "      str_len+=len(f)\n",
        "      if start_add == 1:\n",
        "        target_str = target_str +f.lower()\n",
        "      if \"ttggtaccat\" in f:\n",
        "        target_str = target_str +f.lower()\n",
        "        print(\"ttggtaccat\",str_len,f)\n",
        "        start_add = 1\n",
        "      if \"CTTTGCCTG\" in f: \n",
        "        start_add = 0\n",
        "      \n",
        "        break\n",
        "        "
      ],
      "execution_count": null,
      "outputs": [
        {
          "output_type": "stream",
          "text": [
            "ttggtaccat 100148 ttggtaccattccttctgaaactattccaaacaacagaaaaagagagaatcctccctaactcattttatgaggccagaat\n"
          ],
          "name": "stdout"
        }
      ]
    },
    {
      "cell_type": "code",
      "metadata": {
        "id": "_C9FeuPBEZJo",
        "colab_type": "code",
        "colab": {
          "base_uri": "https://localhost:8080/",
          "height": 70
        },
        "outputId": "c094f53d-a425-4669-ba8f-75157ca1fedb"
      },
      "source": [
        "print(len(target_str))\n",
        "print(target_str[0:20])\n",
        "print(target_str[99980:100000])"
      ],
      "execution_count": null,
      "outputs": [
        {
          "output_type": "stream",
          "text": [
            "100000\n",
            "ttggtaccattccttctgaa\n",
            "aggaccactgcctttgcctg\n"
          ],
          "name": "stdout"
        }
      ]
    },
    {
      "cell_type": "code",
      "metadata": {
        "id": "oanMIbApVLFh",
        "colab_type": "code",
        "colab": {
          "base_uri": "https://localhost:8080/",
          "height": 34
        },
        "outputId": "9e7f1919-d00d-49d5-8336-6545654c637b"
      },
      "source": [
        "import psutil\n",
        "info = psutil.virtual_memory()\n",
        "print ('記憶體使用：',psutil.Process(os.getpid()).memory_info().rss)"
      ],
      "execution_count": null,
      "outputs": [
        {
          "output_type": "stream",
          "text": [
            "記憶體使用： 112242688\n"
          ],
          "name": "stdout"
        }
      ]
    },
    {
      "cell_type": "code",
      "metadata": {
        "id": "trprujvFVRo0",
        "colab_type": "code",
        "colab": {
          "base_uri": "https://localhost:8080/",
          "height": 34
        },
        "outputId": "fb8b7eeb-318a-49f0-b129-ac9fdb4b6af0"
      },
      "source": [
        "time.time()"
      ],
      "execution_count": null,
      "outputs": [
        {
          "output_type": "execute_result",
          "data": {
            "text/plain": [
              "1598793197.3300123"
            ]
          },
          "metadata": {
            "tags": []
          },
          "execution_count": 22
        }
      ]
    },
    {
      "cell_type": "markdown",
      "metadata": {
        "id": "5tNIbwPjU4mv",
        "colab_type": "text"
      },
      "source": [
        "###order 0"
      ]
    },
    {
      "cell_type": "code",
      "metadata": {
        "id": "AL2EvhkOU2PB",
        "colab_type": "code",
        "colab": {}
      },
      "source": [
        "arr = ['a','t','c','g']\n",
        "dic = {}\n",
        "for alpha in arr:\n",
        "  i=target_str.count(alpha)\n",
        "  dic[alpha]=i"
      ],
      "execution_count": null,
      "outputs": []
    },
    {
      "cell_type": "code",
      "metadata": {
        "id": "QE_TLBr4YbzL",
        "colab_type": "code",
        "colab": {
          "base_uri": "https://localhost:8080/",
          "height": 176
        },
        "outputId": "4f8fbeed-0373-4c11-9d66-5682c0c900e1"
      },
      "source": [
        "sum=0\n",
        "for a in arr:\n",
        "  sum+=dic[a]\n",
        "  print(dic[a])\n",
        "print(\"sum\",sum)\n",
        "\n",
        "for a in arr :\n",
        "  dic[a]= float(dic[a])/sum\n",
        "\n",
        "for a in arr:\n",
        "  print(dic[a])"
      ],
      "execution_count": null,
      "outputs": [
        {
          "output_type": "stream",
          "text": [
            "31515\n",
            "26886\n",
            "20803\n",
            "20796\n",
            "sum 100000\n",
            "0.31515\n",
            "0.26886\n",
            "0.20803\n",
            "0.20796\n"
          ],
          "name": "stdout"
        }
      ]
    },
    {
      "cell_type": "code",
      "metadata": {
        "id": "ug4ff1hMc2GK",
        "colab_type": "code",
        "colab": {}
      },
      "source": [
        "import numpy as np"
      ],
      "execution_count": null,
      "outputs": []
    },
    {
      "cell_type": "code",
      "metadata": {
        "id": "ruGdqJ5kbZIT",
        "colab_type": "code",
        "colab": {
          "base_uri": "https://localhost:8080/",
          "height": 34
        },
        "outputId": "4e0f92e6-0c0b-4aba-a398-100799859497"
      },
      "source": [
        "prob = 0\n",
        "for  alpha in target_str :\n",
        "  prob = prob + np.log2(dic[alpha])\n",
        "\n",
        "print(\"prob: \",prob)"
      ],
      "execution_count": null,
      "outputs": [
        {
          "output_type": "stream",
          "text": [
            "prob:  -197688.94757657658\n"
          ],
          "name": "stdout"
        }
      ]
    },
    {
      "cell_type": "code",
      "metadata": {
        "id": "mSt9wFgMa8KF",
        "colab_type": "code",
        "colab": {
          "base_uri": "https://localhost:8080/",
          "height": 34
        },
        "outputId": "75fd4d67-e716-47c4-d5a0-8c266fe4ca4d"
      },
      "source": [
        "time.time()"
      ],
      "execution_count": null,
      "outputs": [
        {
          "output_type": "execute_result",
          "data": {
            "text/plain": [
              "1598793197.4989004"
            ]
          },
          "metadata": {
            "tags": []
          },
          "execution_count": 27
        }
      ]
    },
    {
      "cell_type": "code",
      "metadata": {
        "id": "ft6YLqvpVf2r",
        "colab_type": "code",
        "colab": {
          "base_uri": "https://localhost:8080/",
          "height": 34
        },
        "outputId": "4a730737-b3b0-444f-b6b2-7f15b964b9d1"
      },
      "source": [
        "print ('記憶體使用：',psutil.Process(os.getpid()).memory_info().rss, \"bytes\")"
      ],
      "execution_count": null,
      "outputs": [
        {
          "output_type": "stream",
          "text": [
            "記憶體使用： 112242688 bytes\n"
          ],
          "name": "stdout"
        }
      ]
    },
    {
      "cell_type": "markdown",
      "metadata": {
        "id": "Bq0tZ0vfb6Qy",
        "colab_type": "text"
      },
      "source": [
        "###order 1"
      ]
    },
    {
      "cell_type": "code",
      "metadata": {
        "id": "5jGeZ841VjiN",
        "colab_type": "code",
        "colab": {
          "base_uri": "https://localhost:8080/",
          "height": 34
        },
        "outputId": "c004134a-2c15-442a-c35e-c7522a26a44e"
      },
      "source": [
        "print ('記憶體使用：',psutil.Process(os.getpid()).memory_info().rss)"
      ],
      "execution_count": null,
      "outputs": [
        {
          "output_type": "stream",
          "text": [
            "記憶體使用： 112242688\n"
          ],
          "name": "stdout"
        }
      ]
    },
    {
      "cell_type": "code",
      "metadata": {
        "id": "zUz2UIE3bF_g",
        "colab_type": "code",
        "colab": {
          "base_uri": "https://localhost:8080/",
          "height": 34
        },
        "outputId": "fc63268b-0c3c-42aa-de31-03dc1eb7c1f8"
      },
      "source": [
        "time.time()"
      ],
      "execution_count": null,
      "outputs": [
        {
          "output_type": "execute_result",
          "data": {
            "text/plain": [
              "1598793197.5420594"
            ]
          },
          "metadata": {
            "tags": []
          },
          "execution_count": 30
        }
      ]
    },
    {
      "cell_type": "code",
      "metadata": {
        "id": "fjwqvUleZP7-",
        "colab_type": "code",
        "colab": {}
      },
      "source": [
        "arr = [ \"aa\",\"at\",\"ac\",\"ag\",\n",
        "     \"ta\",\"tt\",\"tc\",\"tg\",\n",
        "     \"ca\",\"ct\",\"cc\",\"cg\",\n",
        "     \"ga\",\"gt\",\"gc\",\"gg\",\n",
        "     target_str[0]\n",
        "       ]\n",
        "dic ={}\n",
        "for a in arr:\n",
        "  dic[a]=0\n",
        "pre_alpha=\"\"\n",
        "for alpha in target_str:\n",
        "  two_alpha=pre_alpha+alpha\n",
        "  dic[two_alpha]=dic[two_alpha]+1\n",
        "  pre_alpha=alpha"
      ],
      "execution_count": null,
      "outputs": []
    },
    {
      "cell_type": "code",
      "metadata": {
        "id": "enKdzyLzZ4SC",
        "colab_type": "code",
        "colab": {
          "base_uri": "https://localhost:8080/",
          "height": 354
        },
        "outputId": "f2d30048-72c8-4db6-8276-03fe42be3027"
      },
      "source": [
        "import math\n",
        "sum_a = 0\n",
        "sum_t = 0\n",
        "sum_c = 0\n",
        "sum_g = 0\n",
        "for a in arr:\n",
        "  if a[0] == 'a' and len(a)== 2:\n",
        "    sum_a = sum_a+dic[a]\n",
        "  elif a[0] == 't' and len(a)== 2:\n",
        "    sum_t = sum_t+dic[a]\n",
        "  elif a[0] == 'c' and len(a)== 2:\n",
        "    sum_c = sum_c+dic[a]\n",
        "  elif a[0] == 'g' and len(a)== 2:\n",
        "    sum_g = sum_g+dic[a]\n",
        "\n",
        "print(sum_a,sum_t,sum_c,sum_g)\n",
        "\n",
        "prob = 0\n",
        "for a in arr :\n",
        "  if a[0] == 'a'and len(a) == 2:\n",
        "    prob=prob+ dic[a] * (math.log2(dic[a]/sum_a)) \n",
        "  elif a[0] == 't' and len(a) == 2:\n",
        "    prob=prob+ dic[a] * (math.log2(dic[a]/sum_t)) \n",
        "  elif a[0] == 'c'and len(a) == 2:\n",
        "    prob=prob+ dic[a] * (math.log2(dic[a]/sum_c)) \n",
        "  elif a[0] == 'g'and len(a) == 2:\n",
        "    prob=prob+ dic[a] * (math.log2(dic[a]/sum_g)) \n",
        "  print(a,dic[a])\n",
        "print(\"prob\",prob)"
      ],
      "execution_count": null,
      "outputs": [
        {
          "output_type": "stream",
          "text": [
            "31515 26886 20803 20795\n",
            "aa 11197\n",
            "at 7576\n",
            "ac 5537\n",
            "ag 7205\n",
            "ta 6241\n",
            "tt 7909\n",
            "tc 5546\n",
            "tg 7190\n",
            "ca 7796\n",
            "ct 6656\n",
            "cc 5308\n",
            "cg 1043\n",
            "ga 6281\n",
            "gt 4744\n",
            "gc 4412\n",
            "gg 5358\n",
            "t 1\n",
            "prob -193209.3579269481\n"
          ],
          "name": "stdout"
        }
      ]
    },
    {
      "cell_type": "code",
      "metadata": {
        "id": "fi2JuLevbI11",
        "colab_type": "code",
        "colab": {
          "base_uri": "https://localhost:8080/",
          "height": 34
        },
        "outputId": "d4e46e44-0721-4edf-8e0d-c4a665fa581f"
      },
      "source": [
        "time.time()"
      ],
      "execution_count": null,
      "outputs": [
        {
          "output_type": "execute_result",
          "data": {
            "text/plain": [
              "1598793197.6291418"
            ]
          },
          "metadata": {
            "tags": []
          },
          "execution_count": 33
        }
      ]
    },
    {
      "cell_type": "code",
      "metadata": {
        "id": "wAYXfyuVVsB0",
        "colab_type": "code",
        "colab": {
          "base_uri": "https://localhost:8080/",
          "height": 34
        },
        "outputId": "7fc1a78e-8782-4fca-bd12-606d8d6ddbf8"
      },
      "source": [
        "print ('記憶體使用：',psutil.Process(os.getpid()).memory_info().rss)"
      ],
      "execution_count": null,
      "outputs": [
        {
          "output_type": "stream",
          "text": [
            "記憶體使用： 112402432\n"
          ],
          "name": "stdout"
        }
      ]
    },
    {
      "cell_type": "markdown",
      "metadata": {
        "id": "CTbA7cOOb_1C",
        "colab_type": "text"
      },
      "source": [
        "###order2"
      ]
    },
    {
      "cell_type": "code",
      "metadata": {
        "id": "VU06lJUuVx0b",
        "colab_type": "code",
        "colab": {
          "base_uri": "https://localhost:8080/",
          "height": 34
        },
        "outputId": "d9225682-1a1f-4440-ad83-6c88f8c3e4a5"
      },
      "source": [
        "print ('記憶體使用：',psutil.Process(os.getpid()).memory_info().rss)"
      ],
      "execution_count": null,
      "outputs": [
        {
          "output_type": "stream",
          "text": [
            "記憶體使用： 112402432\n"
          ],
          "name": "stdout"
        }
      ]
    },
    {
      "cell_type": "code",
      "metadata": {
        "id": "ydFEawUObKy2",
        "colab_type": "code",
        "colab": {
          "base_uri": "https://localhost:8080/"
        },
        "outputId": "80ba8cdf-6591-4e82-f78b-ba01fca28142"
      },
      "source": [
        "time.time()"
      ],
      "execution_count": null,
      "outputs": [
        {
          "output_type": "execute_result",
          "data": {
            "text/plain": [
              "1598793197.6600463"
            ]
          },
          "metadata": {
            "tags": []
          },
          "execution_count": 36
        }
      ]
    },
    {
      "cell_type": "code",
      "metadata": {
        "id": "Inje0s9NcCAs",
        "colab_type": "code",
        "colab": {}
      },
      "source": [
        "arr=[\n",
        "     \"aaa\",\"aat\",\"aac\",\"aag\",\n",
        "     \"ata\",\"att\",\"atc\",\"atg\",\n",
        "     \"aca\",\"act\",\"acc\",\"acg\",\n",
        "     \"aga\",\"agt\",\"agc\",\"agg\",\n",
        "     \"taa\",\"tat\",\"tac\",\"tag\",\n",
        "     \"tta\",\"ttt\",\"ttc\",\"ttg\",\n",
        "     \"tca\",\"tct\",\"tcc\",\"tcg\",\n",
        "     \"tga\",\"tgt\",\"tgc\",\"tgg\",\n",
        "     \"caa\",\"cat\",\"cac\",\"cag\",\n",
        "     \"cta\",\"ctt\",\"ctc\",\"ctg\",\n",
        "     \"cca\",\"cct\",\"ccc\",\"ccg\",\n",
        "     \"cga\",\"cgt\",\"cgc\",\"cgg\",\n",
        "     \"gaa\",\"gat\",\"gac\",\"gag\",\n",
        "     \"gta\",\"gtt\",\"gtc\",\"gtg\",\n",
        "     \"gca\",\"gct\",\"gcc\",\"gcg\",\n",
        "     \"gga\",\"ggt\",\"ggc\",\"ggg\"\n",
        "]\n",
        "dic={}\n",
        "for a in arr :\n",
        "  dic[a]=0\n",
        "\n",
        "pre_str=''\n",
        "for alpha in target_str:\n",
        "  target=pre_str+alpha\n",
        "  if len(target) == 3:\n",
        "    dic[target]=dic[target]+1\n",
        "    pre_str=target[1:]\n",
        "  else:\n",
        "    pre_str=target"
      ],
      "execution_count": null,
      "outputs": []
    },
    {
      "cell_type": "code",
      "metadata": {
        "id": "M5b7WLfzeHSh",
        "colab_type": "code",
        "colab": {
          "base_uri": "https://localhost:8080/",
          "height": 34
        },
        "outputId": "3f083174-5fe5-4aa4-9750-9bc19f01a59d"
      },
      "source": [
        "sum_aa=0\n",
        "sum_at=0\n",
        "sum_ac=0\n",
        "sum_ag=0\n",
        "sum_ta=0\n",
        "sum_tt=0\n",
        "sum_tc=0\n",
        "sum_tg=0\n",
        "sum_ca=0\n",
        "sum_ct=0\n",
        "sum_cc=0\n",
        "sum_cg=0\n",
        "sum_ga=0\n",
        "sum_gt=0\n",
        "sum_gc=0\n",
        "sum_gg=0\n",
        "for a in arr:\n",
        "  if a[0:2] == \"aa\" :\n",
        "    sum_aa = sum_aa + dic[a]\n",
        "  elif a[0:2] == \"at\" :\n",
        "    sum_at = sum_at + dic[a]\n",
        "  elif a[0:2] == \"ac\" :\n",
        "    sum_ac = sum_ac + dic[a]\n",
        "  elif a[0:2] == \"ag\" :\n",
        "    sum_ag = sum_ag + dic[a]\n",
        "  if a[0:2] == \"ca\" :\n",
        "    sum_ca = sum_ca + dic[a]\n",
        "  elif a[0:2] == \"ct\" :\n",
        "    sum_ct = sum_ct + dic[a]\n",
        "  elif a[0:2] == \"cc\" :\n",
        "    sum_cc = sum_cc + dic[a]\n",
        "  elif a[0:2] == \"cg\" :\n",
        "    sum_cg = sum_cg + dic[a]\n",
        "  if a[0:2] == \"ta\" :\n",
        "    sum_ta = sum_ta + dic[a]\n",
        "  elif a[0:2] == \"tt\" :\n",
        "    sum_tt = sum_tt + dic[a]\n",
        "  elif a[0:2] == \"tc\" :\n",
        "    sum_tc = sum_tc + dic[a]\n",
        "  elif a[0:2] == \"tg\" :\n",
        "    sum_tg = sum_tg + dic[a]\n",
        "  if a[0:2] == \"ga\" :\n",
        "    sum_ga = sum_ga + dic[a]\n",
        "  elif a[0:2] == \"gt\" :\n",
        "    sum_gt = sum_gt + dic[a]\n",
        "  elif a[0:2] == \"gc\" :\n",
        "    sum_gc = sum_gc + dic[a]\n",
        "  elif a[0:2] == \"gg\" :\n",
        "    sum_gg = sum_gg + dic[a]\n",
        "\n",
        "prob=0\n",
        "for a in arr:\n",
        "  if a[0:2] == \"aa\" :\n",
        "    prob = prob + np.log2(dic[a]/sum_aa) * dic[a]\n",
        "  elif a[0:2] == \"at\" :\n",
        "    prob = prob + np.log2(dic[a]/sum_at) * dic[a]\n",
        "  elif a[0:2] == \"ac\" :\n",
        "    prob = prob + np.log2(dic[a]/sum_ac) * dic[a]\n",
        "  elif a[0:2] == \"ag\" :\n",
        "    prob = prob + np.log2(dic[a]/sum_ag) * dic[a]\n",
        "  if a[0:2] == \"ca\" :\n",
        "    prob = prob + np.log2(dic[a]/sum_ca) * dic[a]\n",
        "  elif a[0:2] == \"ct\" :\n",
        "    prob = prob + np.log2(dic[a]/sum_ct) * dic[a]\n",
        "  elif a[0:2] == \"cc\" :\n",
        "    prob = prob + np.log2(dic[a]/sum_cc) * dic[a]\n",
        "  elif a[0:2] == \"cg\" :\n",
        "    prob = prob + np.log2(dic[a]/sum_cg) * dic[a]\n",
        "  if a[0:2] == \"ta\" :\n",
        "    prob = prob + np.log2(dic[a]/sum_ta) * dic[a]\n",
        "  elif a[0:2] == \"tt\" :\n",
        "    prob = prob + np.log2(dic[a]/sum_tt) * dic[a]\n",
        "  elif a[0:2] == \"tc\" :\n",
        "    prob = prob + np.log2(dic[a]/sum_tc) * dic[a]\n",
        "  elif a[0:2] == \"tg\" :\n",
        "    prob = prob + np.log2(dic[a]/sum_tg) * dic[a]\n",
        "  if a[0:2] == \"ga\" :\n",
        "    prob = prob + np.log2(dic[a]/sum_ga) * dic[a]\n",
        "  elif a[0:2] == \"gt\" :\n",
        "    prob = prob + np.log2(dic[a]/sum_gt) * dic[a]\n",
        "  elif a[0:2] == \"gc\" :\n",
        "    prob = prob + np.log2(dic[a]/sum_gc) * dic[a] \n",
        "  elif a[0:2] == \"gg\" :\n",
        "    prob = prob + np.log2(dic[a]/sum_gg) * dic[a]\n",
        "print(\"prob\",prob)"
      ],
      "execution_count": null,
      "outputs": [
        {
          "output_type": "stream",
          "text": [
            "prob -192094.7665926948\n"
          ],
          "name": "stdout"
        }
      ]
    },
    {
      "cell_type": "code",
      "metadata": {
        "id": "akcccvQHbNGg",
        "colab_type": "code",
        "colab": {
          "base_uri": "https://localhost:8080/"
        },
        "outputId": "339ee6e3-fa10-4207-91e9-3f8395cd3644"
      },
      "source": [
        "time.time()"
      ],
      "execution_count": null,
      "outputs": [
        {
          "output_type": "execute_result",
          "data": {
            "text/plain": [
              "1598793197.8303556"
            ]
          },
          "metadata": {
            "tags": []
          },
          "execution_count": 39
        }
      ]
    },
    {
      "cell_type": "code",
      "metadata": {
        "id": "_6uFm1FhV2H2",
        "colab_type": "code",
        "colab": {
          "base_uri": "https://localhost:8080/",
          "height": 34
        },
        "outputId": "37e09e8e-5fe6-4a4b-8886-1dcd18a9d778"
      },
      "source": [
        "print ('記憶體使用：',psutil.Process(os.getpid()).memory_info().rss)"
      ],
      "execution_count": null,
      "outputs": [
        {
          "output_type": "stream",
          "text": [
            "記憶體使用： 112574464\n"
          ],
          "name": "stdout"
        }
      ]
    },
    {
      "cell_type": "markdown",
      "metadata": {
        "id": "siIb3CwPCnsI",
        "colab_type": "text"
      },
      "source": [
        "###Viterbi algorithm"
      ]
    },
    {
      "cell_type": "code",
      "metadata": {
        "id": "84MZu8nGV6F2",
        "colab_type": "code",
        "colab": {
          "base_uri": "https://localhost:8080/",
          "height": 34
        },
        "outputId": "06ebdeb3-f278-4b53-ac1a-8432f7196953"
      },
      "source": [
        "print ('記憶體使用：',psutil.Process(os.getpid()).memory_info().rss)"
      ],
      "execution_count": null,
      "outputs": [
        {
          "output_type": "stream",
          "text": [
            "記憶體使用： 112574464\n"
          ],
          "name": "stdout"
        }
      ]
    },
    {
      "cell_type": "code",
      "metadata": {
        "id": "IDo4rcNMbOaL",
        "colab_type": "code",
        "colab": {
          "base_uri": "https://localhost:8080/"
        },
        "outputId": "0b6df1d3-5137-4a4c-b535-3870f43cadc1"
      },
      "source": [
        "time.time()"
      ],
      "execution_count": null,
      "outputs": [
        {
          "output_type": "execute_result",
          "data": {
            "text/plain": [
              "1598793197.854676"
            ]
          },
          "metadata": {
            "tags": []
          },
          "execution_count": 42
        }
      ]
    },
    {
      "cell_type": "code",
      "metadata": {
        "id": "zYdCP5i5LTQ9",
        "colab_type": "code",
        "colab": {}
      },
      "source": [
        "import math"
      ],
      "execution_count": null,
      "outputs": []
    },
    {
      "cell_type": "code",
      "metadata": {
        "id": "uZMvMG2CCyVH",
        "colab_type": "code",
        "colab": {}
      },
      "source": [
        "state =(\"1\",\"2\")\n",
        "#observations = target_str\n",
        "start_probability={\"1\":np.log2(0.8),\"2\":np.log2(0.2)}\n",
        "transition_probability={\n",
        "    \"1\":{\"1\":np.log2(0.6), \"2\":np.log2(0.4)},\n",
        "    \"2\":{\"1\":np.log2(0.4),\"2\":np.log2(0.6)},\n",
        "}\n",
        "emission_probability = {\n",
        "    \"1\":{\"a\":np.log2(0.32),\"t\":np.log2(0.27),\"c\":np.log2(0.21),\"g\":np.log2(0.20)},\n",
        "    \"2\":{\"a\":np.log2(0.4),\"t\":np.log2(0.4),\"c\":np.log2(0.1),\"g\":np.log2(0.1)},\n",
        "}"
      ],
      "execution_count": null,
      "outputs": []
    },
    {
      "cell_type": "markdown",
      "metadata": {
        "id": "2HMtwwLaMUck",
        "colab_type": "text"
      },
      "source": [
        "######init"
      ]
    },
    {
      "cell_type": "code",
      "metadata": {
        "id": "Cs1j96kcKk7s",
        "colab_type": "code",
        "colab": {
          "base_uri": "https://localhost:8080/",
          "height": 52
        },
        "outputId": "9849602f-2ad3-4075-8677-58d2143a9b3e"
      },
      "source": [
        "v=[{}]\n",
        "path={}\n",
        "for y in state:\n",
        "  v[0][y]=start_probability[y]+emission_probability[y][target_str[0]]\n",
        "  path[y]=y\n",
        "for a in path :\n",
        "  print(a)"
      ],
      "execution_count": null,
      "outputs": [
        {
          "output_type": "stream",
          "text": [
            "1\n",
            "2\n"
          ],
          "name": "stdout"
        }
      ]
    },
    {
      "cell_type": "code",
      "metadata": {
        "id": "DFFKNu0JMPfN",
        "colab_type": "code",
        "colab": {}
      },
      "source": [
        "for t in range(1,len(target_str)):\n",
        "  v.append({})\n",
        "  newpath={}\n",
        "  for s in state:\n",
        "    (prob,y) = max([(v[t-1][s0]+transition_probability[s0][s]+emission_probability[s][target_str[t]],s0) for s0 in state])\n",
        "    v[t][s]=prob\n",
        "    newpath[s]=path[y]+s\n",
        "\n",
        "  path[\"1\"]=newpath[\"1\"]\n",
        "  path[\"2\"]=newpath[\"2\"]\n"
      ],
      "execution_count": null,
      "outputs": []
    },
    {
      "cell_type": "code",
      "metadata": {
        "id": "0gQTSXpCpO_j",
        "colab_type": "code",
        "colab": {
          "base_uri": "https://localhost:8080/",
          "height": 34
        },
        "outputId": "6d680756-f349-4806-e8f4-d9c0639addc2"
      },
      "source": [
        "print(v[99999][\"2\"])"
      ],
      "execution_count": null,
      "outputs": [
        {
          "output_type": "stream",
          "text": [
            "-264570.96102874895\n"
          ],
          "name": "stdout"
        }
      ]
    },
    {
      "cell_type": "code",
      "metadata": {
        "id": "_7XDYADfpW4z",
        "colab_type": "code",
        "colab": {
          "base_uri": "https://localhost:8080/",
          "height": 54
        },
        "outputId": "13d1f8d3-2d7e-45ee-f314-22f9ababdafe"
      },
      "source": [
        "print(path[\"2\"])"
      ],
      "execution_count": null,
      "outputs": [
        {
          "output_type": "stream",
          "text": [
            "1111111122211111111111222211111111111222221111122211111122211122222221111111122222221111111122222221111111111111111122222222222222211111122222111111111111111111122222211112222222221111111111222211111111111112222111111111111122211111111111111111111122211111111111111122211122222222222222222211112222222221111122211122222111111111111111222211111112222111111111122222211111111111111112222221111122222211111111111111111222211122222222222211222222222222211111111122221112221111222221111111122211122222222111111111111111111111122211111111111222211111111222211111111111111111122211111111111111222221111111222111111111111222111222222222221111111111111111122222222222221122222211111111112222111111112222222222222111122222211111222112222211222222111111111111111112222111111111111111112221112222111112221112222222221111112221111122211111111111111111111111111111111111111111111111111122222211111111111111222211222222222111111111111222111112222222221111222221111222111111111122222222111112221122211111111111111111111122222211111222211222222111122222222222222111111122222111111111111111111111111222111111111112222111111111111111111111111111111222211111111111111222112222111111111111111111222211122221111111222111111111111111111111222222111111111111111112221111112221111111111112222211111222111111111222111222222222222111111111222211111111112222111122221111111111111111111222111122211122222222111111111122222221112222222222111122222112222222211111111122221111111222211222111111222111111111222222221111112222211112222112222111112222211222222111222211111122222222222221111111111111112222222222221111111111111111111111111122211111222222222112222222111111111111111122222211112221111111111122222222222211112222222111111111111111111111111112222111111112222111222211111122222211111111111112222222222221111111111111111111111112222112222222221111222111222111111111111112222222111111122222222111111111111111111111111111111111112222222222112222211111111111111111222222222211111222111111111111111111222111111111111111111112222222222211111111222111222211111222222211111112222222222222111112222211111111122222222222222211111111111111222211111111111111111111222221111222222222221111112222222222211111112222211111111222222221111112222211111111112222222112222111111111111111111111111111112221111111111222211111111112222111111111111111111111112222221111111111122211111111111111111111111111111111111111111111111111111111111111111111111222112221112222222111111111111111111111111111111111111111111111111112222112222222222211111111111111111111111111111122222222222222222222222211111111111111111111111111111111111111222221112222222211111111122221111112222111112221111111111111111111222111111222111111111111111111111122221111111222111111111111111122222222211111111112222111111111111111111112222221111111111111111111111111111111112221111111111111111222222222111222221111122221111111111111111122222222111111112221111111222222221111111111111111111222222111111111222222222222222222221111222221122222211111111222211111112222211111111112222221111112222211111222211111111111111111111111122222222211222222112222222222221111111111111111111111111222112222111111112221111111111111111111122221111122222111222221112222222221122222111111111111111222211111122222211111111222211111111111122222111222111111111111111122222222222111111111112222222222112221112222112222222222222111111111111111112222211111112221111111111111122222111111111222222211111112222221111222222222221111111111111112222112222111122221112222222222222222111122222222211112222111111111111111111122211122211111122211222211111111222111222222222222222221122222211222222222222211122222111111111122222222111122222221111222222112221111111122222221122222211111111111111111112222112222222222111222111111111222222111111111111111111111122222111111111111111111111111111122222222211111111111111111111111112222111122222222221111111111112222211112222222222211111112222222111111111112222221112222111222222222222222111222222222222222221111111222222211111222211222222222211111111111111112222221111222222211111122222222222222222222211111111111111122211111222211111111111111111111111112222222222222222222222222222222222222222211122222222222211112222222222211111111222111111111222222222211111112222222111222221111111112222111111111111122222211111222222111222211122222222222111111111111122211111111222211111111222221111112222222222221122221111111111222222111111222211112222221111111111122222211111111222211111222111222222111111111122221112222221111111111111112222111122211122222222222222222111111111222112221111222221111111111111111111111111111122221111111122222222211122222222221112221111111222111111112222111111222111111112222222222111112222222222222222221112221111111122222222222222111111222222222222222111222222222111122222222111122222222111122222222222222222111111122222222222222222221112222222222222211122222222222222222222111111111112221111111111122211122222111222222111112221111111122221111111111112222211111111122211111122211111112222222111111112222222222111111111112222111111111111111111222111222222222221111122211222222222222222111222222221112222222222222111111111222222222222222222222222222111122222222111112222222221111111111111111111111122222222111111112222111112221112222222222112222222222111111111222111111222222222222222222211111111111122221112222222211111111122222111111122222222222222221122222222222222222222222222222222222222222211111111111111111111111111222222222111111111222111122222222222211122222222111122222222221122221112222221111111111222221111222222222222111112222112222222221111111111222222222221111122221111222222211111111111111222222111111222211222222222222222222222222222222222111112222221111111112222222222222211122222222222111122221122222111111111111122222111122222222111111112222222221111222222221111111111111122222222221111122222111111112222222211112222222111111222222222222222111111222222222222222222222222221111122222211112222222222221111111111111222221112222111122222111111111122222222222222221111112222222222211111111122211222111112222221111111111111112222211112222222211111111122211122221111111111111111122222221111111111111111111111222221111111111111222211111111111111111111111112222111111111111111111111111111111111111111111111111111111111222222211111111222211111111111111111112222111122211111111111111111112222211111112222111111111111111112221111111111111111111111111111111111111111111111111111111111111111122221111111111111122222222111122221111111111111111111111111111111111111111111111111122221111111112222221111112222211111122211111111112222221111111222211111111111111111222111111111111111111111111222111111111111111122221111111111111111111111111111222111122211111111111222222111111111111111111111111111111222111222111111111111111111111111111111111111111222111111111111111111112222222222111111122211112222111111111222111111111112222111111111111111111111111111112221111111111111111122222111112221111111111222111111111122211111111111111111111111222222222111111222222222111111122222111222221111222222222211112222222222222112221111122222222222222222111222221111111111122222222222222222211112222222222111111111111111111111112222222111111111222222221111122221111111122222222211122221122211111112221111112221111122222111111111222222211111111222222222222111122221111122222112222111122222222222222222222211111111111111222111111112222111111111111111111222211112222111122222111111122222111111111222111111111111111111222222111111111111112221111111222222111111111122211122221111111111111111111111111111112221111112221111112222222221111111222221111111222221111111111111122222221111111112222222222222222111222221111111122222111111111111111111122222222211111122211111111111112221112222211111112222222222222221111112222111111112222211222111112222222111111111111111111222211111111222111222111222211111111112222111111111111111122222222222222222222222211111111111111111111111111111111222222222222211222111111112222221111111111111111111111222112222111222222222222221111122222221111122211222211222222222222222222222222222222222222222222222222222222222222222211111222221111111122222111111222221111222222222111111111122222211111111111111111112222222111122222111111222222222222111111111111111111112222111112222222211111111111111112221111111122222222211222211111111111111111222211122222211122222222211111111111111112222222211112221111111112222222222111111111111111122222111111111111111111111111111112222222222222111111222211111111111111111122221112222222211111111111111111111111111111222111111111111111111222222111111111111111122211111111111111111111111112222221111111111112221111111111111111111111111111111111111111111111122222222111111111111111111111111111111111222211111111111111111111111111111111122221112222222222222222111111111111111111111222211111112222222222221111222222211111111111111222111111222211111111111112222222221111122211112222111112222222222222111111112222111111111111111122221111111111222221122222222222222222221111222111111122222222221111222222111122221112222111112222221111122221111222222221122222221122222222222222222222222211122222222211111111112222222222222222111111111111222222111111111122221111112222222222222222222211111111111111122222222111222221111112222222222222222211112222221111222111111111122222111112221111111222111111111111111222211112222222222222221111111111122222211111122222222222222222222111112222111111111111122222222222111222221111222222111111111222222222222222221111222211112222221111122222222111122222222222222222221112222222222222222111111122222222222222111222222222221111111111111111122211122222111111111111111122221111111112221111111111222211222221112222222222211111112221111222222221111122222221122222222222221111111111112222222222222222222222221111122222221122222222221111111111222211111111222222222222211111122211122222221111111122222221111222222211111122222222222222222221122222211111111222222222112222222222222211222222222222222111222222222222211111111111222211111111111111111111122211122221111111222222111111122221111111111111111122211111122222222222111222111112222222222211122222111111111112222222222221111222222222221111112221111111111111122221111222211112222222222222222221111111111111111111111111122211111112221111111112222211111111111122211111111111112222222111122222222222222222221111222222211111222111111111111111122211122211122222111111222222211111111111111111111111122211122211111112222222111111111111111111111122222222211111122221111111111112222222222221111111112222222221122222221112222222222222222222222111111122221111112222222222222222222222222211112221111122222222221111111111111111111111111111111111111222222222111111111122221111111111111111111111111111111111111111111111111111112222221122222221111111111111111111222211122211112221112222222222211111111111222211222222211111122222222222222112222222222222222111111122211111222222222111111111122222222221111222111111111111111112222222222222221111111222111112222222221111111111112222221111112221111111111111111122222211111111111111111111111111111122221122222222221111111111111111111111222222222222222222211122222111111111111111111111112222222221111111111122222222222222111111111222222222221112222222222222222222222222222221111222222221111112222222222222222222222222211111111112222222222222221111111111112222222222222211111111112222211222222111112222111122221112222222211112222222222221111111111112222111111111122222221111222222222111122222221122222222222222222222222222222222222222222221112222222221111111111111111111111111111122222222222222211122222222221122222222222221111222111111112222222211112222221122222222222222111111111111111222211111222111122222222222222211122222222222211111112221111112221122222211111111222211222211111111111111111111222222211122222222222211111111111111122222222221111111111111111112222111111111111111222211111111111222211111111111111111111112221111111112221111122222222221112222222222222111111222222222222222221112222221111111111122221111112222221111111122221122211122221111111111222222211111111111222211111111111111111222211122221111111222111111111122221111111111111111111111111111111122222222112222111111122222111122221111122222111222221111222222222222221111112221111111111222222221111111111122221111111111111111222222222211111111111111222221111111111122222221112221111222221111111112222222222222222211111111222222111111111111111111111111111111111111111111111111112222111111111222222222211111111111111111111222221111111111111222211111111111111111111111111111111111111122211111111111111111222211111111111111111111111111122222222111111122222221111111122221112221111111111111111111111122221111111111222211122221112222221111222222222222222111122222211111222211111122221111111222222222222222222222112222222111122222211111222111222111111111122222222222221111222222112222222111111111112222222222222211122222222222222211111111222221112222222222222222221111111111111112221111111111222211111111111111222222111111111111111122222111111112222222211111222222222211111111111111111122221111112222222221111111111111111111111111111111111111111111111111122222111222211111112222222222211112222222222111111112221111112222111111111111122221111111111111111111112222222111122222211111222222221111222111111111222222222222222222222111122222222211111111111122222222111222222222221122222211122222222222111111111111112222222221111112222221111122221111222221111111222222222222222112222222222222211111111112221111112222111111111111222222221111112222222222222222111111111111122222222222211112222222222222211111222211222222222211111111111111111111111111111111111111111111111111111111111111111222111122222211111111111111111111111111111111111111111111111111111111111111111111222222111111122222111122222222222222222221112222222111122222221111111122221111111111222222111111122222222211122222222222222222222222211222222222222221111111111111122221111222222222222111111111111112221111112222222211111112221111111111111111111111111111111111111122222221111112222112221111111111222222221111111111111122211111111111111111111111111111111111222111111222222221111111111111111111111112222111111111111111111111222221111111111111111222211111112222111111112222211111111111111122221112221111111111112221111111111222222111111122222211111112221111111111111222222221111122222221111111111111111111222211111111111111111111111111111111111111111111111111222211111111111111111112221111111111111111222222222111112221111111111111111111111111222222222222222222222222222211111111111111222211111111111222222221111111111222222211122211222222211111111111111111111111111111111111111111222111111111111122222211111111111111122221111111111111111111111111111111111111111111111122211111111111111111111111111122222111112221111222221122221111112221111112222221111122222221122222222222222222111222222111122221112221111111111122222222222222222222221112222111122221111111111222222222211111222222222222222222222222211222211222222222222222222222222222222222222222111222222221111111112222222222222221111112222222222222222221111111111222222222211112222222211111112222222222222222222111122222221111111111111111222222111111122222111111122222222222222222222222222222222222221122211112222222222222112221111122222222222111222111111111111111111122222222222222111112222222111111222221112222111222222222222221122222211122211111122222222222111111111222111222111122222222221112222112222222111111122222111222222222211111112222221111111111122222222222211111111111222222221111122222222222222211111111111111111111222211111111111112222222222211111111111111111111112222211111111111111111111111111111111111111111222211122222111111112222111111111111111122221111111112222222111111122222221111111111111111111111111111111111111111122222211111111111222222221111222112222222211111111111111112222111111111122222111111111111111111111111112222222222222222222222222221122221111111111111111112222222111122222221111112221112221112221122221111111111122222221111111111112222111111111222112222111111111111111112222222111111111111111111111122222112221111112221111222222111111122222222222222222222222222222222222222222222222222211111112222222222221111111222221112222222222221111111111222222222222111111111112222222111111122222222222222222222222222111111112222222222211111112222222222221111112222222222222222222222222211122222222222211111222222111111122221112222111111111111112222111111122222221111122222221111111111111112222221111122222211111222222222222221111111222222222211111112222112222222222111111111111222222222222222111111111111222211122222211111111111111112222211112222222222222222222222222222222111222211112222222222222222211222221111222222222211112222222111222222222111111111111111111111111122222211111111111111111222222221111111122222222222222222111111111111111222222111111111222221111111111111111112221111111111111111112221111111111111111112221111111111111111111111222211111111111111112221111111111111112221112222222222222222222222211112222222222221112222111122211111111122211111111222222222222222111111222111122222111111222112222222211111122221112222221112222222222222222222222221111111111222222222222222211111112221111222111111111111122211112222222222221111122222222222222222222222221111222222222222222222222222222222222222222222221111111111111111111111111222221111222211111112222222222111112221111111111111112222221112222222222111122222222222222211111122222222222222222222222222222222222222222221111222222222221112222222222222111112222222222222222211222222222222222222222211122222222222222111111122211111111222211111122211111222222222222111111111111112222111111111111111122222211111222111112222222222221111112222222222111112222222222222222222222211111112222111111111111111112221111222111111111111111111111111222211122221111112222111111111111111111222211111111111111222111111111111111111111111111111111111111111111111122211111111111111111111222111111222221111222222111111111111111111222111222111222211111111112221111111222222221111112222111222222222222111222112222222222222222112222222112222222222112221111111111222221111111111111111111111111122222222222222222111122221111122221122222222222222222211122222222111222222222111111111111111111111222222111111111111112222111111112222111111111122222222222222221111111111111122211222111111111222222221111112221112222111222211222222112221111222211111222222221111111122221111111111111222222221111111111111111111112221111222222111111111111111111111122222211111111122222111111112222222222111111111222111112222222211122211111111111111122222111111222222221111111111122211111222211111122222111111111111122222222222222222222222222222222111111112222222211111222222222221111112221112222222222222222111111222222222222211111111222222111111111222222211111111111112222222211111111122222222211111111111111111111112221111112221111222222222111111111222222221111222211111111111122222211111111111111222211111111111111111111111111111111111111122211111222211112222211111111222211112222211111111112222211122221111111111122222222222222222111222111112221111111111111111111111111111112221111111111111122222222112222111111111111111111112221111111111111111111111111122222221111111111111111111122222111111122221111112221111111111111111122222222221111111111111111111111111111112222221111111112222111111111222211111111111111111111111111222111111111111111111222211111111111112222222221122211111111111222211111122221112222111111111112222211122222221111111111111111111111111111111111111111111222222211112222222222211222222222222221111222222221111111111122211122222111111222112222112222222221112222111111111222211111111111111111222211111111111111222222222211111222221111111222111112221111111111111111222111111111111111111111111111111111111111111111111112222111111111111111111111111111222111111111112222222111112222111111111111111111111111111111111112221111111111111111111111111111111222111111111111111111111111111111111111111111111111111111222211222111111111122211111111111111111111111111111111111111122222211111111111111222211222222211111222211111111111111112221111122211111111111112221111111111111111111111111111111111111111111111111111111111111111111111111111111111112222211111111111111111111111111111111111111111111111111111111111111111111111111111111111122211111122222221111111111111111111111111111111111111111111111111111111111111111112221112222222222111111222222222221122222211111111111222222221111111122222112222222222222221111111111111111222222211111112222211111122221111222222111111112222221111111111111111222222222221111122222222222221111111222111222111111111111111111111111111122221111111111111112222211111111111111111222111111111111222211111111111222111111111111111111111111111111111111122222222111222222222222211122222211111111122211111111111111111111111111222111112222211111112222111111111111111112221111111111111222111111111111111111111112222221112222222221111111111111111111111111122211111122222111112222111111111122222111222111111111111112222221111222221111122222111111112222111111111111111111111112221111111111111222211111111111111111111111111111111222111111222111111111111111112222222221111111111111111112222211111111111111111222111112222211111111222111222211111111111111111111111111111122222221111111112222111111111222211111111111111111111122222111111122221111111111111111111111111111111111111111111111111122211111112222111112221111222222221111111111111111111111111111111111111111111111111111112222111111111111111122222211111111111112221111111122211111111111112222211111111122222222222222222222222222111112222222211111112221111111111122222111111111122222222222222222222222211111222111222112221111122211222111111111111222211111111111222111222211111111111111111222222222112222111122222112221111111111111122221111122211111222211111111222222211111111222211111111111111111112222211222221112222222111111111111111111222211111111111122222111111111111222222221111111111122222222222222221122222221112222222221111111111111111112222221111111112222222222222222112222222222222222222222222222211111111111111111111111112222111111111111111122211111111111111111111111111111111111122221111111122222221111111111122222111111112222222211111122222222222222211111122221111122222111111111222222222112221111112222111111111122221122222111122211111112222221111111122222111111111222211111111112222222111111111111111111111111111111111112222111111111111122222222222222111111111122222221111111111122222221111112222211111111111111112222112222222222221111122222222222222222222222222222222222222222211112222111111111112222222222221112222222222222222112221111111111112222211111111111112222222221111112221112222111111111111111111111111111111111111112222111111112221111111111111111111111111222111111111111111111111111111111111111111111111111111122222222222222222111111111111111111111111222221111111111111111111111111111222111111111111111111111122221111111112222211111122211111111111111111111111111111111111111112222222222222222111111111112222211111112221111222211111222222221111111222211222222222222222222222112222222222211222222222222222222222222222211122222222222222222222111111111111122222222221111111122221112221112222222222222222222222221112222211222222222222222222222222222222222111222222222111112222111112222211111122222222221112221111122221112222222111111112221111111111222211122222222222111111111222222221111111111111111222222222222211112222222222222211111222221111222222111122222222222222222222222211111112222222222221122222211111111122211111111111111222221111111112222222222222222112222111111111111111111111111111111111111111122222211112222222222222211122221112222222222111112221111122222222211112222111112222222211111111222221111112222112221111111111111111111111122211111111111111111111111111122222222211122211111222111111111111111112222222222221111111111111111111111111111111111111122211111112222222221111111222222211111111222222222221111222222222211112222221111122211111111111111111222111111111111111111122222211111222222221111112222222112221111222222222222222222221111122222222222222111222222211122222111112222221111111122211111111111122222211111111111111111122221111111122222111122211111111111111122222222211111111122222221122222111112222222111111111111122211111111111112221111222111112221122222221111111111112221111111122222112222111112221111112222221111111111111122222222211122222222222222222221111222211222211111111111122222222222222222111111112222111111112222111222112222222222211111122222221111111222221122222222211111122222222222111122222222222222222222211111111222211112222222222211112222222221112221111111122222222111111112222222222211112221111112221111111111111111112222111111111111111122222211111111122222222222211122222222222222222222222211111111122222221112222222222211112222111111222222211222222222111111222222222111111111111111111222222222222222111222222222211112222222222111122222222222222222222221111111122222222222211111111111111222222222221112222222211112221122211111111111112222111122222222221111222222211222211122222111111112221111222111222221111122211222111112221111111111111122221111111111111111111111222111111122222221111111111222111111111111222221122222221111222222211122221111111111111111222211111112222222221111111111222222211222211111122221111111122221111111112222222222222111122222222221111111111111122211111111111111111111111111222222221112222222221112221122222222221111111111111112222222222222222222221111222222222111111111111111112222222222222222111112222211111111111111111111111111222111111111111122222222111111111111111111111111111111111222111111222111122222222222221111111111111122211111111111111111111111111122221111111111112221111122211111111111111111111111111111111111111122222222222111111222221111111122211111111111111111222111111111111111122221111111122211111111111111122222111222111112222222222111111111111111111111111122222222222222222222222221111111111111111112222222222111222111111111111111111111111222222221111111111222222111112221111111111111111222111111111111111122211111111111112222221111111111222222222111111111111111222222111111122222111111111122222222211111111111222222221111111111111112222111111122211111111111111222222111111122222222111111111222221111111111111111111111112222211111222222211122222222222222222222111111122222111111122222222221111222222222222211222222222222111222211111112222111111111111111111111111111111111111122222221111111111111111111111111111111111122222211111222111222111222111111111111111111111111111111111111111111111111112222211111122221122221112221111122211111111111111111111122211222221111111111111111111112222222222111111222111222221122222111111111111111111111111111111111111222111111112222222211111111111112222211111111112222222222222222111111111111112222222112222111112222222222222222222222222222222222211111111111122221111111222221111111122222222222222222221111112222222222222222222111112221111222222222222222222222222222221111111111122221112222211111111111122222211112222221122222111111111111112222111111111111112222211111112222222211111111111111111111111111222211111111111111111112222222222222222222222221111111122222112222222222111122222222222111111122222112222222222222222111122222222222222222222111111222222111111111111111112221111111111111111222111111111111111111111111111111111122222111111111111111111111111222211112221111111112222222222111111112222221111111111111111111112221111111111111111111111111222222211111222222222222221111111111111112222111222211111111111111111111111111112221111122211111112222222211111111111111111111111111111222222222222222222211111111222111222222221112222222222221122211111111111111111111112222222111122211112222221111122222222222222222222112222222222222222211111111111222221112222222222221112222222211112222211111111111111111222222222111111111112222211122211111122222221122222211111222111111111111111222222211111111111111111111122222111222222222222222111222111111111112222211111112221111111111111222111122222222222222111122222111111222222111112222222111222222222222221111222222222211111111111222222221111111111111111111111111112222222221111111111112222111222222222221111222222222221111112222222111222221111111111222111222222222222222222111222222222211111111111111122221112222111111111111111111111111111111111111111111111111222111111111111111111111111111111111112222211111111111111111111111222222111222222211111111111111111122221111122222222222111222111111111111111111111122222222222111112221111111111122211111111111222222222221111111111111122221111111111222221111122222222222221111111111111222222111111111112222222211111111111222221111222222222221112222111112222221112221111111111112222222222111112222222111112222111222222222222222222222222111222111122222111122222111112222222222222221111222111122222222222222222222222222222211111222221111111111111122222211112222211122222222111111111222111111111122211111111111112221111122221111111112222222222221111222222111122211222111111111122222211122222222222222221122222222222221122211112221111111111111122222222222111222211111111111111122221111111111111111111111222222222222111122222222222111122222111122222222112222222221111111111222222111111111222221111111111122222222222222222222222112222222222222222221112222111111122222222211122222222221111111222222221111111111111122222221111111111122222211111111111111111111112221111111111111122222222211111222112222221112222111111112222211111111111111111111111111111111122211111111111111111222211111111222222222221111111122222221111111111111111111111112222222222211111111222211111222111111222222221111111111111122211122221122211111111111111111122222222111111122221122211111111111111222221111111111111111111122222222222211122222221111111122221111111111111111122211111111122211122222222111111222222222222222222222111111222221111111111222211222211111222222222211222112221111222222222222221111111222211111222222222222222222222222222222222111222222222222222211111111222111111112222211111222221111122222211112222111111111222222222211111112222211111222222222111111222222222211122222222211112222222211111222222222222222222222222222222211122222211111112222222211122211111111222221122222222221111112222222222222211111222222222222222111111111122222211111111122222211222222222111111111111112222221111111111111122222222221111122222222222222221111111111111222111222222221111222211112222222222221112221111111222222222222222222222222222222211111222222222111111111111122222222211111222111111111111111222111111111111111111222211122222222221111222222222222222222222222222211111112222221111122222222222222222222222111111122222222222211222222222221112222222222221111222221111112222222222222222111122222222222222211122222222211111111111112222222222222211222222222222111111122222222112222222222222222222222222222221111111111222211111112222222221111112222111112221111222221111111111111112222222222112222222222222222222222222111111111111122222112222222222111111222222222222222111111122222222222222222222222222222222112222222222222221122222222211122222222222222222222222222222222222222222111122222222222221111111112222112222222222211222222222221111111222222111111122211111222111122211112222222222222222222222222111122222222222222222222222211111111111222222222111112222222111112222222222222222222222222222222222221111111222222211122222222111122222222222111111111111122222222222111111111222222211111111111111111111111111111111111222211112221111111111111111111111111111111122222111111111111111111111111111111111111111222111222222221111122221111111111111112221111111111111111111111111111111112222222221111111111111111111111111111111122222111111222111122222222211111111122211111111122211111112221122221111111111122222222222222111111122222221111112222222211222222222222222222111111112222222111111111122211122222222111222222222221111222222211111122222211111122222222222222222211111112221111112221111111111111111122222111111222222221111111111111112222222211111111112221111111111222111111111111122222222222222111111112221111111222222221111122222111111111111111122222111111111111112222111111111111111222222222222222222222111112222111111111111111122221111122222222211222222222222222222222221111111112222222222111122222211111112222111111222222211111111112222111112222211122222222222111111111222211111111111222221111111112222222111111122222222211111111112222221111111111111122222222222111112222222222222111111112222111111111111111222222222221122222111111111111122222222222222222222111112221111222222222222111111111111111111111111122221122211111111222111122211111222222222111222222222222222211122221111111111112221112222222221111111222111112222222222222111111111222222222222222221111222222222111111111112222222222211112222211111111111222222222222222222222222222222222222222222222222222222222222222222222222222222222222222222222222222222222222222222222222222222222222222222222222222221122222111111112222222221111111111122221111122211111111111122211112221111222211111122222221111111111111111111111111111111111111112222222222222221111111111111111111111111111111111111111111111111111111111111111111111111111111111111122211111111111111111111111111111111111111111111111222111111122222222222222222211111111111122211111112221111111111111111111111111111111111111111111111111111111111111122222111111111111111111111111111111111122222211111111111112221111111222222222222222211122221112222221122222222222222222112222222222222222211222222222222222222222222222222222222111222211122222211222222222222222222111122211111112222112222222222221111111111111111111111222222222111222222222222222222211111222211111111111222211111111111111222111111111111111111111111111111111111111111111111111111111112222211111111112222222221111111111111111111111111122222222222211111111112222222222211111111111111111122222221111111112222111222222222222222222222222222222222221122222222211111111111111222222222222222221111111111111111112222111112222222222211222111111122222222211111222222222112222222222221111111222222222222222111111111222222222222222111111111111111111111122222221111111111111111222221111222211122222222221111111122222222222211112222222222111111111222222222211111111222221122222222221111111122222211111111222111122222221111222111222222211122222221111111111112222112222111222222222111222222111222222221112222211122211122221111122211111111122222221111111112221111111112222111122211111111111111112222222222222222222222222222222222222222111112222221111111122222222222222112221111111111111222111111111111122221112222211222111222222222222211122222222222221112222222222111111111111222222222222111111111222222111222221112222222222222211111111111111112222222222111122222111111122211111111111111222111122211112222222221111222211111111222222111111111111111111222222221111122211222222222221111112221122222111111222222221112222111111111111111111111111111111222111111111222222222221111111112222222222222222222222222222222222222211111122222222222111122222211111222211111111111222222221111222222222221111111222111111222221111222222112221112222222222222222222222222222222222222222211111222111111111112221112222222222222211122222112222221122222222111111222221111122221112222222222111222222222222222222222222222222222222222222222222222222222222211122222222221112222111112222222222222222111111111222222222111111111111122222221111111122211111111111111111111111111111111122221111111111111111111122222221111222211111222222211111122222222111122222222111222222112221111111111111111111111111111112222222222221111111222222211111111111111111222222111112222222111111112221111111111111111222221111111111111111111222222222222222221111112222222222222222221111111111122222111112222221111111122211112222222222111222222222222222222222222211111112221111111122211111111111111112222111111111111111111111111222222211111222211112222221112222222222211122211111111111111111112221111111112222211111111111111111111111111111122211111112222111111111112222111111111111111111222111222111222111111111111111112222222222211111111111111111111111111111111122211122221111222222222222222222222222211122222111111222111111111111111122222222222211111111111112222211111111111111112222211112221111111112222111122211112221111111122222222222222222221122222222211111111111111122222222222221112222221111111222111122211111122222211111111112222222211111112222222222222112222222222222222222222211111111111111111122221111122222211111111111111111111111112222222111111112222211111111111112222222111222211111111111122222222222222222111111222111111111111111111111111111111111111111111111111222211111111111111111111111111222111111111111111111111111111111111111111111222111111111112222222222222222222222211122211222222211111111111111111111111112222222222221111111222222211222222111111111122222111111111222222222221111222222221122222222222222222222221111122222111222222222222111111222222111112222221122222222221122221111111111111222222222222222222221111111111122222222221111111222222222221111111111111111111111222111222222222222222222222221111111111111111222221112222221122222222111111111122222111111122222111111111122222211222222111222211111112221111111111111111122222211111111111222211111222211112222222222221111111111122222222222222222222111111112222111111112221112222111111122222222111111122222222221111222222211222221111111111122222222222211111111222222222222222111112222222222222111112222111111222222222222222111122222222222222222222222211122222222222222222221111112222221111222111111222222222211122221111111222211122222221111111112222222222221112222222222222111122222222222222221122222211111111122222222111122222222111111111111111122222221111122222221111222222222222222222222111112222221111112222222222222222222222111122211122222222222222222222222222222211111112222222222111111111122222222222222222222222221111111112222222222222222221112222222222222222222111222222222222222222222222222222222111111111112222221111111111222222222222211122222222111111111122221122222221122222211112221111222222221111222222222221111111222111111222221111222222221111122222111111111222222222211111222222222221111111111111111111111111122211111111122222222211111112222111111111111111111111111111111111122222222222222222222221111111111222211122222222211111222222222112222222221111111222222211122221111222222222222221112222222221122222221111222221112221111111112222111111111122222222222111111111112222222222222222222221111111122222222221111111111111222211222222222222111112222222111111222222222221122222221111112222222222111122222222222111222211122222222222222222211122211111222222222222222222222222222221111222222222222211111111122222222221111111222222112221112221111222222222222222222222222222222222222211111111222222222222111222222211222221122222222222222222222222221122221111111111112222211111111112222222211112222222222222222222222111222221112222221112221111111122222222222211111111122211111122221112222211122222211111111111111111222222222112222222222222222222221111111111112222222222222222222222222222111222222222111222221111112222221111222221111111111222222222222222222221112221111122211111111111111222221111222112221111122222221122222211122221112222111111111112222222222111111112222222222222222211222222222111122222222222222211111112222222222222221111112222211111111111222222211111111111111111111111222111122222222222222222211111111222221111111222222222211222221122211222211112221111111111222222222222222222211111222111111111222222111111111112221122211111111111111111111222111122222111111222112222222111222222222222222222221111122222222222211122222222222221111111112222211122211111111111111111111122211111111111111112221111111111111111111111111111111111222111111111111111111111111111111111111112221111111111111222111111111111111111111111111111111111111112222222211112222211111111111122211111111111111111111111111111111111111222211111111111111111111111111111111222221111111111111122211111111222222211111112221122222222112222211112222111222111222222222222222222211111111111111111222111111222111111122222222222222222222221111222222221111111222211111111122222222222221111112222222222222222221111222222211111111122222111122222211112222222222222211122211111222222111222222222222222222222222211122211111111111111111111111111222222222222222222222211111111111111111111111111222112222222222211111112221111122222222111111122211112222222222222222222221112222222222211111122222222211122211112221111111122211122211122221111111111111111111111111111111222222222222222222222222211111111122221111111111111111111111112222111111111111111111111111111111111111111111111122211111111111111111111111111111222211111111111111111111111122222222222222222111111222111222111111111111111111111111111111111111111111111111111111111111111111111111111222211111111111111111111111111111111111112222222111122222222222222111111122222222222211111111122222111222222111111111112221111111111111111111111222222221111111112222222211111112222112222221111122211122222222222111111111111111111111111111111111111122222222222222222222222222111111111122222222211111111111111111222211111111122222222222222111111112222211111111111111111112221111111111111111111111111111111111111122222222221122222211122222111111111112222111111111111111111112222222222211122222111111112222111111122221122222222222222222222222112222222211111111111111111111111111111111111111111112221111111111111111111111111111111111111222111111111111111111111111111111111111111111111111111111111111111111111111111122222222222222222111111111111222211111111111111111111111111111111111111111111111111112221111111111111122222222222222222222211111111111111122222211111111111111111111111111111111111111111111111111111111111111111111111111111111111111111112222222111111112221111111111111111111111111111111111111111111111111111111122222211122222222222211111111111112221112222222222222211111111122222221111111111111111122222222222222222111222211111111111111111111111111112222111111112221111111111111111111222221111111111111111111111111111111111111222211111111111122222222222222222111111111111111111111111111111111111111111111111111111111222111111111111111111111111111111112221111111111111111122211111111111111111111111111111111111112222222222222222222222211111111122221111111111111111112222111111112221111112222111112221111111111111111111111111111111222222222222211111222211111222221111111111222221111112222211111111122222222211222211111111111122222222211111111111112222222222222211122222222222222222211111111111111222112222222222211111111111111222222211111111111222222222111111111111111111111111112222222222222111122211111111111111111111111222111111111111111111122222222221122221111122222111122222211222111111111111111111111111111222211122222111111111111111111111111111111111111111111111111111111111111111222211111111111122222222222222222211111122211111111111111111111111111111111111111111111111111111111122222222222222222222221111122222222222222221111111111111111111111111111111111111111111111111111111111111111111111111111111111111111111111111111111111111111111111111111111111111111111111111111111111111111111111111111111111222111111111111111111111111111111111111111111111111111111111111111111111111111111111111111111111111111111111111111111122221111111111111111111111111111111111111111111111111111111111111111111111111111111111111111111111111111111111111111111111111122211111111111111111122222111111111111111111111111111111111111111111111111111111111111111111111122211111111111111222111111111111111111111111111111111111111111111111111111111111111111111111111111111111111111111111111111111111111111111111111122221111111111111111111111111111111111111111111111111111111111111111111111111111111111111111111111111112222111111111111111111111111111111111111111111111111111111111111122222111111111111111111111111111111111111111111111111111111111111111111111111111111111111111111111111112221111111111111111111111222211111111111111111111111111111111111111111111111111111111111111111111111111111111111111111111111111111111111111111111111111111111111111111111111111111111111111111111111111111111111111111111122222111111111111111111111111111111111111111111111111112221111111111111111111111111111111111111111111222111111111111111111111111111111111111111111111111111111111111122211111111111111111111111111111111111111111111111111111111111111111111111111111112221111111111112222111111111111111111111111111111111111111111111111111111111111111111111111111111111111111111222111111111122222111111111222111111111222211111111111111111111111111111111111111111111111111111111122221111111222111111111111111111111111112221111111111111111111111111111111111111222222111111111111111111111111111111111111111111111111111111111111111111111111111111111111111111111111111111111111111122211111122211111111111111111111111111111111111111111111111111111111111111111111111111111111111111111122211122211111111111111111111111111111111111111111111111111111111111112222111111111111111111111111111111111111111111111111111111111111112222111111111111111111111111111111111111111111111111111111111111111111111111111111112221111111111111111111111111111111111111111111111111111111111111111111111111111111111111111111111111111111111111111111111111111111222221111111111111111111111111111111111112221111111111111111111111222222111111111111111111111111111111111111111111111111111111111111111111111111111111111111111111111111111111111111111111111111111111111111111111111111111111111111111111111111111111111111111111111111111111111111111111111111111111111111111111111111111111111111111111111111111111111111111111111111111111111111111111111111111111111111111111111111111111111111111111111111111111111111111111111111111111111111111222111111111111111111111111111111111111111111111111111111111111111111111111111111111111111111111111111111111111111111111111111111111111111111111111111111111111111111111111111111111122221111111111111111111111111111111111111111111111111111111111111111111222111111111112221111111111111122222221111111111111112222222112221112221111111112221111111111222222222222222222222221111111111111111111111111111111111111111111111111111111111111111111111111111111111111122211111111111111111111111111111222211111111111111111111111122222222222222222111111111111111111111111111111111122221111111111111111111111111111111111111111111111111122221111111111111111111111111111111111111112222222221111122211111111111111111111111111111122222111111111111111111111222111112222111111111111111122221112222111222222111111111111111111111111111111111111111111111111111111111111111111111111111111111111111222222111111111111111111111111112221111111111111111111111111111111111111111112222111111222111111111111111111111112222222222221111111222111111111222111111111111111111111111111111111111112222222222221111122222222111111111111222222111122222111122222222211222222222222222222111111111111111111111111222222222211111122222222222211111222222211222222222222222111222222211122222222222222222111111111111111111111111222221111111111222111111111111122211111111112222111111111111111111111111111111111111111111111111111111222111111111111111111111111111111111111111111111111111111111111111111111111111111111111111111111111111111111111111111111111111111111111111111111111111111111111122221112222111111111111111111111111111111111111111111111111111111111111111111111111111111111111111111111222211111111111111111111111111111111111111111111111111111111111111111111111111111111111111111111111111111111111112222111112222111111122221111111111111111111111111111111111111111222221111111111111111111111122222111111122211111111111111111111111111111111222211111111111111111111222222211111112221111111111111111222222222222111111122222222222222222221122211222111111111222221111112222222221111111122222222222222111111111111111111111111111111111111111111111111111111111111111111111111111111111111111111111111111111111111111111111111111111111111111111111111111222221111222222222222111111111111111222222211111111222111111111111111111111111111111111111111111111111111111222211111111111111111111111111111111112222222222222222222222111111222222222222222222211111122211111112222222111111111222222222222222222111111111111111112222111222222221111111111111111112222211222221111112221111112221111111111111111122211111222211222222112222222222211112221111111111111111111111111111111111222111111111111111111111111111111111111111111111111111222111111111111111111111111122221111111111111111111222222222222222222111122222222222222222211122211122211122211122211112221112221111222111111111222111222111222111122211122211112221111111111222111222111122221122211122211122211111111111111111111111111111111111111112221112221111222111222111122211122211112221112221112221122222111222111222111222111222111222111222211122211122211122211122211112222112221112221111111122211112221112221112221111122222211111111111111111111222222221111111111111111111111111111111111111111111111111111111111111111111111111111222221111111111111111111222211111111111111111111111111111111111111111111111111111111111111111111111111111111111111111111111111111111111111111111111111111111111111111111111111111111111111111111111111111111111111111111111111111111111111122222112222111111111111111111111111111111111111111111111111111111111111111111111111111111111111111111111111111111111111111112222211111111111111111111111111111111122211111111111111111111122221111111111111111111111111111111112221111111111111111111111111111111111111111111111111111111111111111111111111111111111111111111111111111111111111111111111111111111111111111111111111111111111111111111111111111111111111111111111111111111111111111111111122211111111111111112221111111111111111111111111111111111111111111111111111111111111111111111111111111111111111111111111111111111111111111111111111111111111111111111111111111111111111111111111111111111111111111111122222111111111111122222221111111111111112222221111111111111111111111111111111111111111112222211122222211111111122222111111111111111122222211111111112222222222222222211111222211111122222222222222111111111111111111111111122221111111111111111111111122222222222111122222111222111111111111111111111111111111112221111112222111111111111222111111111111111111122211111111111111111111111111111111111111111111111122211122211111111111111111111111111111111111111111111111111111112221111111111111111112221112222222211112222221111222211111122211111111112221112222222211111122211112222222111111111111111222222111112222222221111111122211111111111111122222111111111111122222222211112221111111111111111111111111111111111111111111111111111111111111111112222221111222222111111111111111111111111111111222111222211111111111111111111111111111112222222111111222111111111122211111111222111222222211111111111222222211111112221122222222211111111111222222222111122211122222221111122222111112221112222222112222222221122221111111222222221111222211222111112221112221122222222222222222211111222211222222221111111122221112221111222222222222222222222222111111111111112222222222222222221111111111222221111222222222112222221111111111222222222222222222222222222222222222222222222222222221111112222222221111111111111111111111112221111111111111111111111111222222222222221111111111111111111111112222111122211122211111111111111111111222111111122221112222222222111222221111111122222111111111222222221111111111111111122222111122222221111111122222222221111111111111222221111111122222221111122221122222222222211111111222222222222222222222112221111111111111122221111111111122211111111222111222222211112222221122221111222222221111111111111111111111111111112222222222111222211111222222221111111111111112222111112222211111122211111111111111112222111111222111111111111111111122222222222222222222111122222222222112222222111111111111111111222221112222211111111222111111112221122221122221111222222222222211122222111222222221111111222222111111111111111111222211222222222222222222222211111112222211111111111122222211111112222111122211112222222112222221112221122222222221111111112221111122222111111222211111111112222222221111111122222222222111111111222222221122211111111122222222111111111111112221111111111111222222222222222222222222222111111222211122211111122222111112222222211111112222222221111222221111111111111222222211111111222221111111111111122222211222221111111111111111111111111222111222211222222222222222222222112221111111111111111111111111111111111111111111111111222222222222111111111111122211111122221112221111111222222222222222221111112222211111111112222222221111111111122222211111222221111111122211111111111111111112221111111111111122222222222111111122222221111111111122211111112222221111222211111111112221111111111122222221111111111112222111111111112222211111222222211111122222221111111222222221111111111111122221112222111111111111111111111111111111111111111111111111111111111111111111111112222222222111111111111112222222221111111111111111111111111111122222221111111111222222221111122222111111122222222222222211111111112222211122211111111111111111111111111222222222211222222221111111122211111111111111111122221122222211111122211111111111112221111111122222222222222222221111111111111122211111222211111111222111111111111111111111111222222211111112222111111112222222211111122222222222221111111111112222111111111111222222221111222221111111112222221112221111111222222222211111222222222222222222222222222222222211122211222222222222222222222222222222222222111111111111111111122221111111111111111111112221122211111112221111111111111111122222222222221111111111111111111222222222111111111111222111111111222111111112222222222211112221122221111222222221111222211111222222111111222211111111111111222211111111112222221111111222222222222222111222222211111111111111112222211111111111122222222222222221111222222111111111111111111111222222221111111111111111111111111111122211111111111111111122222222221111111111111111111111111111111111111111111112222211122222222222222211111112222211111111122222222211111222222222211111111111111111111111111111111222222211111111111111111111111111112222222222222211112222222222221111111111111111111111111111122211111111111112222221122221112222211111122221111111122221111222111112222211111111111111111111111111111111111112221111111111222111122221111111111122221111222111111111111222222222111111222222222222222222222222222221111112221111111111111111111111122222211111111111122222222222222221111111111111112222211111222222111111111111111112222221111111111111111111111111111111111111111111111111111111111111111111222222222221122211111111111222211111111111112222222222222222111111222211111111111222211222211122221111111111222222222222222222221111222222222222221111122222222111112221112221111111111111111111112222222211111122222211111111122222222111111111111111112221111111111112222211111112222222221111111111111111111111111111111111111111111111111222222222222222222221111111111111222111111222222222111111111111222111112222221111111111111122211111111111111111111111222222222222222222222222111122211112222222221111111122222222111111111112222222211111122221111111112222222111111112222111122211111111111111112222222222211111111111112222222111111111222111111112221111111111111111111111222111111111111111111222111111111111111111111111111111111111111111111111111222211122222222222222211111111111222111111111222211111111111111122222222111111111111111111111111111111111111111111111111111111112222222211111111111112222221111222211111222111111111111111111111111111111111111111111222111111112221111111112221112222111111222111111111111111111111111122211111111111111111111122211111122222222111111111111111222222222222221111122222222211222222222221122221111222211111111111112222111111111122222211111112222222111111111122221111111122222222111111111111122222221111111111111111111111111222111111111122222222222111111122221111111111111111222222222211111222222111112222111222221122211111111111222111111111111111122222111111111222222222111111111111111122211111111111111122211111111111111111111111111111111111111111111111111111111111122221111111112221111122211111111222111111111111111111111111111111111122222221111112222222222222221122222222222222222111222222222222222222222222222222111222222222222222222222222111222211111122222221111111222221111111111111111111111111111111111111111111122211111111111111111111111111111111112221111222221111111111111112222221111111111222211222111111111222211111122221122211122211112222222222222111222222222222222222222111122221111111112222221112221111222222222222221111111222112222111111111111111111111111122222211112222222222222222222222221111111112222222111111222211111222211111111111111111111122222221111111111111111111111111112221111112222222222111111111111111111111222111111112221111111111111111111111111111111111111111111111111111122221111111122221111111111111111111111111222111111111111111111111111111111111111112222211111111111122211111111111112222222111112221111111111111111122211122222211111222222222111111122222111111111122221112222222111111111111111111111222222111111111111111222111111111111111111111111111111111111111111111111111111111111111111111111111111111111111111111111111111111111111111111111111111111111111111111122211111111111111111111111111111111111111111222222221111122211111111111111111111111111111111111111111111222221111111111111111112221111111122222222211111112222111111111111111111111111111111111111111111111111111122221111111111122211111111111111112222111111111222211112222222221111222111112222111111111111111111111111122211111111111112221112222222222222222222221122222222111111111111111111111122221111111111112221111111111111111111112221111111111111222222222222222111222222211122222222221111111111111111222222221111111122222222111111122222222222222222222222222222211111111122221111111111111111111111112222211111111122211111122211111111111111111111222211111222211222111111111222221111111111111111111111112221111111111111111111111111111111111111222111111111111111111111111111111111111111111111111111111111122211111111111111111111111111111122211122211111111111111122211111111111111111222111111222111111111111111111222111111111111111111111111111111111111111111111111111111122221111111112222221111111111111111111222222222211111111111222222222222222222222221111111122222222222211111111111222221112222222222222222111222222221111122221111111111111111111111111111111111111111111111222222211111111111111111111222222222111222111111111111111111111111111111111111111111111111122222222111111222111222111111111111111111111111111111111111111111112222111112222211111111111222221111111111111222222222222111112222222222222222222222211111222222111112221111111111111111111122222211111112222222222222222111222222111222211122222222222222211122222111222222222222222211122222222222222222221111111111111222222221112222111111112222211112222222222222222222111222222222211112222222211112222221111111112222222111111222222222111112222211111112222111111111111111111222221111111111111111222111111111111111111111111111111111111111111111111111222112222111111111111111111111111111111111111222111111111111111111122222111111111111222222111111111222211222111111111111111111111111111111111111111111111111112222111111111111111111111111111122211111111111111111111111111111111111111111111111111111111111111111111111111111111111111112221111111111111111111111111111111111111111111111111112221111112222211222222222111111111122221111111111111111111111111112221111222222222211111111111111111111111111111111111111111111111111111111111111111111112221111111111111111111111111111111111111111111111111111111111111111112221122221111111111112221111111111111111111111122222211122221112222222222222222222222221111122211112222222222211111111111222211222111111222222111222222111111111111111112222222222111112222222211122222111111111222111111111111111111111111111111111111111111111111111111111111122221111122221111111111111111111111111111111111111111111111111222111111122222211122222222222222222222211111111111222222222221111111222222111112221111111222222211112222111111112222222221111122222222211222221111222211111111111111111222221111122211111111222222222221111112221122222221111222221111111111111222222221111111122211111111111111222211111111111112222111112222221122222111111111222221111111122222222111111111112222222111111111111111122211111112222211111111111111111111111111111111111111111111222211222222222222221111122211111122211122222221111111111111111112221122221111111111111111111112222222222211111122222111111111111111111122222211111112222221111111111111111111111111111111111222211111111111111111111111111111111111111111111111112222112222222222222222211111112222211111111111112222211111112222211122221111111222211111111112222221111111111111111111111111112222221111122221111122222221112222222111111122222221111111112221112222222221112221111222221111111122211122222222111111111111111111111111112221111111222211112222222211111111111111111122211111111111111222222222222221122222111111111111112222211111111111111111111112222222222222222211112221111111111111111111111111111112222111111112221111111111111111111111111111111111111111111111111111222111111111111111111111122222222222222222211111111111111111111111111111111111111111111111111111111122211111111111111111111111111111111111111111111111111111111111111111111111111111111111111222222222222222222222222222111111111111111122222211112222112222221111111111111111111111222111111111111112222221111111222112222111122222111111111111111112222111111111111111222111111111111111111111111222111111222222222221111111111111111111111111111111111122221111111111112222222211111111111122221122222222211111111111122211111222222222111112222111111111111111112222222222222111111222111111111122221111111222222111112222112222221111222222222222221111122222221111111122211111111222211111122222111122221111111111111111111111111111111111111111111111112221122221111111111111111112222111111111111111111111112222111111111111111111111111111111111111111112221111111111112222211111111111122222222111222222222222111111111222211111111112222111122221111111111111111111222111122222222222211111111111111111111112222211222111111111112222222211111111222211111112222112221111112221111111111111111111111122222111122221122211111122221112222221112222111111222222222222211111111111111122222222222211111111112222111111111111222111111122222221122211111111111111111111222222111122211111111111222222222222211112222222222211111112222222222112222111111111111111222211111122222211111111111112222222222221111111111111111122222222222112222222221111222111222222211111111112222222111111122222111111111111111111111111111111111111112222211111112222211111111111111111222222222211111222111111111111111111222112222222211111111112222211222211111111222111222222211111111222222222222211111111111111111111111122222222221111111222211122222111111111111111111112222111111122222221111112222222222211111222222211111111222222221111112222222211111111111111112221111111111111112221111111111112221111111111222111111111112222111111111111111111111112222111111111111122211111111111111222111111111111111111111111111111111111111111111111111222112222111122222112222111111111111111111112221111222222211111222222222221111122221111222211112222222211122211111222211111111111111111111111112222221111222111122211222221111111111111222211111222221111111122211111112222222222211111222111111111111111111111222222221112222111122222222222222222211111111111111111111111111111111111111111111111111111111111111111111111111111111122221111111111111111111111111111111111111111111111111111111112222222222222222221111111111112221111122222111111111111111111111112222111111111111111111111111111111111111122221111111111111111111111111111111112222211111111111222211122221111111111111111111111111111111111112222222112222222211111222112222222221111122222211111122221111222111111111112222222221111111111222222222211122222211111111122222111111111112222222111122211111112222222211111111222222222111222221111111111111111122221111111222222222211122222222111222211111112222222221111112221111111122222222222222112221111111222211111111222222112222222112222111222222222222222222222222222222111122222222222222222222222221111111111111111122221111111111112222111222211112222222222222222222222111111111222222222222222222222222222222111111222111122211112221111111111222222111112222222222111111222221111112221111222211122222222222222222211111111111222211222211111111111111122221111111122221122222222211112221112221111111111111111112221111222222222222222222222222111111111111111111122222222111111111111111111111111111111222211111111111112221122221111111111222112222211112222211111111111222211111111222111111111111222111111111112222111111222222211122222222222111111111112222221111111222222222222211111111112222211122222222222111111122222222222211222222222221111122221111111111222111111222222222221112221111111111111111122222222211222222222211111122211111122211222211111111112222221111111222211111111222112221111111111111222222222222222211111111111111111111111111111111111111111122222222111111112222221111111111111111111111222211111122221111112222222222211111111111111111111111111111122221111111122211111111111111111111111111111111111111111111111111112221111111111111222222222222222222111111111111111111111111111111111111111111111111111111111222111111111111111111111111111111111111111111111111111111111111111111111111112222222222222222222222221111222112222211111222211112222211111222222222222222222222222112222222222222211111222222222222222222211111111111122222222222222112222222222222111111111112222111111111111111111111111111111111111111111111111111111111111111111111111122211111111111111111111111111111111111111111111111111111111111111111111111111111112222222222222222111111111111111222111112221111122222222222111222222222211222222222222222111122222222111111111111111111111111111222211222111111111111111111111111111111111111111112222222111122211111111111111112222111111222211112222111111122221111111111111111111111111111122222111111111112221111111111111111111111111111111111111111222221111122211111111111111111111111111111111111111111111111111111111111111222111111111111112221111111111111111111222222111222222111111111111111111111111122222222221111122211111111111111111111111111122211111122222211111111111111111111111122211222111222211122211111222111112222111111111111111111122211111111222222222222211111111111111111111111222211222211122222211222222221111112222222222222222111111111112221111112222111111111111222111112222222111122222111222222222222211222222222111111122222222222222222111111111112221111111111111111111111111122222111111111111111112221111111111111111111111111112222111111111111111111111111222211111222211111111111112221111111111111111111111112221111112222211112222222222111111112222222222222221112222222222222222222222222222222222221122221111111122222222222222222211111122222222221111222222222222222222221111111222111111111111111111111111111111122221111111111111111111111111111111111111111111111111111111111111111111111111111111111111111111111111111111111111222222222222222222211122222211122222111111112222222221111111111111122222211112222222222221122221111111111222222222221122222222211122211111222211222222222221111122221111111111122211111122222222211111111111111111122222211111111111111122222222111222211222222222222111111111111111111111122222222111222222211111111112222222211111111111111111111111111222211122222222222222222112222211112222222222222222222222222222222111111122221111122211112222222222222222111111222211111222112222222222222222222222222222211111111111111111111111111111111111112222111111112221111111111111111111111111111111111111111111122211111222111111111111111111111122222222222222222221111111111111111111111111111111111111111111111111111111112222111111111111111111111111111111111111111111111111111111111111111111111111111111111111122222222222222222222222222211111111122222222222222211111122222222221112222222222222221122211222222222222211111122211112222111111111111111111111111111122221111111222222211122211111111111122222221111222111111111112222111122222221111111222111111111111111111111111112221111222211111111222111111111111111111111111111111111111111111111111111111111111111111111111111112222222222222222221111111111111111111111111111111111111111111111111111111112222112222221111111111111111111111111111111111111111111111111111111111111111111111111111111111111111111111111122222222222222221122211222222222221112222211111222222222221122222222221111222222222222222222221111111222222222222222222221111222222222222222111222222221111111111111112222222221112222222111222211222111122221122222221111111112222111112222111222211111111111222221111222222222211111112222222222222222221112222111222211222222222222111111111111111111111112222211111112221111111111111111111222211111222211222222222211111111111222222222222222211111111111111111111111111111122211111111111111111112222222221111222111222221111111111111111122211222222111222211111111111222112222222222211111122222222222211222222222211222222222211222222222222222111111111111111222222211111222211122222211112222111111111122211112222221111122222222222222112222222222221112222222222221111222211111122222222222111111111111111111111112222111222111111111111122221122221111111111111111111111111122222222221111111111122222222222222222211111111111111111111222211122221111111122211111111111111111111111111111111111111111111111111111111111111111111111111111222222222222222221111111111111111111111112222111111111111111111111111111112222111111111111111111111111111111111111122211111111111111111111111111111111111111111111111122222222222222222222222222222222222221122222221111111122222222222211111112222211111111111122222222222222222222111122222211122222222222222222222222222222222222222222211111222221111111111222222222222222111111112221111222222222221111112222222222221111122222222211111111111111222211111222221111122222222211222211111111122222222111111111111111111111111111111111111122211111112222211112222111111111111112221111112221122211111111111111111111111111111112221111111111111111111111111111111111112222222222211112222222222211122222221111111111222222222111222221111111111111111111111111222222222221112222222211111111111111111111122222222222222111222111111112222222222222211111111111111112222111111122211111122211122222222111111111222222222222222222222222222221122222111122221112222222222222111111111111222222111122222112222222221122222111222221111111222211111222222222211111122221111222222222222222222222211111111111111111111111111112222222222222222222222222211111222222222222222222222221111222112221111111111222211111111111111111122222222221122211111122222222111122222222222211111111122222222111222222222222222222211111112222222211222222222222211111111111122222222222222221111112221111222222211112222222222111122221112221111111222111111111111112222222111111111122222222111222222111111112222222222211112222222222222222222222222222222222222222222222112222221111122222222111222222222111111111222111111112222222222221112222222221111111111222222211112222211222221111222222222221112222111222222222222222222222222222222222222222221111111112222222222222222222222222222112221122222222222211111122211111122211112222222221111122222222222222111112222222222222222111222211222111122222222211222211111222211111111111111111111111111112222222222211111111222222222222222222222111111111111111222222222222211111111111222221122222111111111112222111112221112222222222222111111222222221111111122221112222211111111222222222222221111222222222222222222222222222221111111111112222221111111122222222222221111111111222221111122222222221111111122222222111111222222221122222222222221111111111222222222222111111111222222222222222222111111222222222222222222222211122222221112222221111222222222111111111111222222111111111112222222222221111111222222221111111111111112222222222222221111222222222222222222222222221122222222222222222222111111122222211111111111112222222211111222221111111111122222111111111111122222222222222222222222221111222111111111122221111111111222111222222222211122211222222222221111112222211111222222222222222222222222222222111111111111111111111112222222222222111122222111111112222211122222221111111111222222211111111122222111111122222222222111111111111111111111111111112221111111122211111111111111111111111111111111111112221111111111111111112221111111111111122222222222222222112222222222222222222222222222222222222111222222222222222222211111111111111111222111111122211111111111111111111111111111111111111111111111111111111111111111111111111111111111111111111111111111111111122221112222222111222222221111111122222221111222222221122211111222111111112222111222222222222221111122222211111111111111111111111111111112222222222111111111112221111111111111111111111111222222211111111111111112222221111111222111122211111111111112221111111111111111111122211111111222111111111111111111111111111111111111111111111111122222222211112222222222222222211111111111122211122222111111111122222111122211111222222111111111111111111111111112222222211122222211111111111222221111111111111111122211111111111111111111122222211111111122211111111111111112222222221112221111111111111222222222211112222222221111111111111111111222111111111111112221111111111122222111222222112222222221111111111111111122221111111111111111222211111112221111111111111111112221112222221111111222222222211111111112221111111111111111111112222221122211122222222111111111111222222222111222222211111111222221112222222222222222211111111111111111111111111122222222222222221111111112222222222111111111222111222222111111111111112221111112221111111111111111111111111111111111111111222222211222211111222111111111111111111111111111111111111111111111111111111111111122221122221111111111111111111111111111111111111122211111111111111111111111111111111111111111111111111111111222222222111122211111111111111112222111111111222222222111111111111111122222222111111111111111111111111111111111112221111111111111111111111111222221111111111111111111111111111111111111111111111111111111111111111111111111112222211111111111111111122211111111111111222211111111111111111111111122222211111111111111111111111111111111111111111111111111111111111111222111111111111111112222111111111111111111111111111122222222211111222222222211111222211111222221111111111111111222211112222222221111222221111122221122222222222211111111111111111111222222222211111222111111111122222222221111111111111111111111111111111111111111111111111111111112222111222221111222211122222222221111111111111122211111222112222222221111112222111222211111111111111111222222221122211122211111111112222222222222222211111111122222211111111111111111111111111111112222222222111111111111222111122222222222111111122222221111222211111111222222211112222111222111111111111122211111111111111111112222111111112221111111111111122211111111111111111111111111111111222222222111111122222222111222111111111111222111222221111112222222221111222221112222211112222222211122221122221112222222222222222222112222222222211222211111112222222222221111111111122222222111111111122222222111112222221111111111222221111111111111222222222111111111111111111111222222222211111111222221111222111222111111122222221111111112222211222222221111122211222221111222222222211111111112221111111111111122222222111122211111111112222111111111111222222211122211111122221111111122222112222222211111122222211112221111111111111222111111122222222222211122222111122222211122222222221112222222211111112222222222222211112221111122222111111122221122222222111112222222222222111111111122222222222112222222222222111222222222222221111111112221111111111122221111111111112222222222111111111222222222222111111111222211111111112222222211111111111111111111222111111111112221111111122222222222222222222222222112222221111222222222222211111112222111111111222112222222211111111111111111111222211111111111222222211111112222111112222222222222222211111222211111112221111111222111222222222222111222211111111111111112221111112222222222211122211111111111222111111111111222221111222111111111111111111111111111111222222222221111111222221111111111111111222222222221112222222221111122211111111111111112221111111112221122222221111222222222222211222222211111111111111111122211111111111222211111111111111222221111122222222221112222222222221111111111222111222222111112222222222221111111111111111111111111111111111222211111111222111111111111111111111111111111111111111111111111111111222111111111111111111111122222222222222221111112222111111111111112222111111111111111111111111111112221111111111111111111111111111111111111122211111222222111111111111111111111111111111111122211111111111111111111111111111111111122222222222222222221112222222221111111122222111111111111111111111122222211111122211122221111222222222222222211111111222221112222111112222222222211222222222222111222222222222222112221111112222222222222222222221111111111111111112222222112221122222222221111111111122211111112222222222222111111111222222111122222222221111222111122211111112221111111111122222222222111111111111112222222222222221111111222222222222222222222222222222222222222222222222222222222222222222222222222222222222222222222222222111111111111122222222222111111112222221111112222222211222211122211112222222221111111222222222111222222222222221112222222211111122222222221122222221111122222211111122222222211111112222222222222211111111122221122211111111111111222222222222222222211111111111222112221111222222211122222111111111111122211111222111122221111111122211111111111111111111111111111111111111111111111111111111111111111111111111112222222222112222222221111111111111111111222222221111111111111111111111111111112221111111111111111111111111111111111111122211111111111111111111111111111111111111111111112222222222222222222211122222211111122222222222211122222111112222222222222221112222211111112222222222111111111112222222211111222222222112222222222222222222222222111111222111111122222222221111111111122222221122221111111111111112222222211222222221111111122222111222222211111111111111111111111111112222222211111111111111111111222221111111111111111111111111111111111111111111111111111111111111111111112221111111111112222222221112222211222111111111111111111111111111112221111222211111112221112222111111111111111111111111111111111112222211111122221111111222222221111122222222222111111111111111111111111111111112222111111112221111111111111111111111111111111111111111111111111111122222111111111111111111122222222222222222111111111111111111111111111111111111111111111111111111111222111111111111111111111111111111111111111111111111111111111111111111111111111111111111112222222222222222222221111111111222222222221111122221111222222211111122222222111111111122222222111122222222222222222222211111111111111111122222211111111111111111111111111111111112221111111111111111111222111111111111111111111111111112222111111111111111111111111222222222222222221111111111112221111111111111111111111111111111111111111111111111111111111111111111111111112221111111111111111111111111122222211112222222222222222222221111111111111112222211111111111111111122222111111111111111111111111112222221111111111111111111111111111111111111111111111111111111111112222211111122211111111111111111111111111111111111111111111111222221111111111111111111111111111111111111111111112222221111111111111111222221111112221111111111111111122221122222222211111111111111111111111111222211111122221111111111111111111111111111111111111111111111111111111111111111111111122211122222221111111111111111111111111111111111111111111111111111111111111111111112221111111111111111111111111111111111222111111111111111111111111111111111111111111111111111111111111111111111111111111111111111111111111111111111111111112222222111111111111111111111111111112221111111111111111222111111111111111111111111111111111111111111111111111111111111111111111111111111111111111111122221122222222111111222221111111111111111112221111111111111111111122211122211122222222111111111111111122222211111111111111111111111111111222211111111111111111111111111111111111111122221111111111111111111111122221111112221111111111111111111222222222111111111111111111111111111111111122221111111111111111111111111122211122222111111111111111112222211111111111111122211111111111111111111111111111111111111111111111111111111111111111111111111111111111222211122222211111111111111111111122211111222222111111111122211111122222211111111112221111122222111111222211111111111111111122211111222222211111111112221111111222111111222211111111111111111122211111122222211111111112221111122222111112222111111111122222221111111111111111111111111111111111111111111111111111111111111111111111111111111111111111111111111111111111111111111111111111111111111111111111111111111111111111111111111111111111122211111111111111111111111111111111111111111111111111111111111111111111111111111111111111111111111111111111111111111111111111111111111111111111111111111111111111111111111111111111111111111111111111111111111111111111111111111111111111111111111111111111111111111111222111111111111111111111111111111111111111111111111111111111111111111111122222111111111112221111111111111111111111111111111111111111111111111111111111111111111111112221111111111111111111111111111111111111111111111111111111112221111112222111111111111111111111111111111111111111111111111111111111111111111111111111111111111111111111111111111111111111111111111111111111111222222111111111111122222221111222111111111111111111222211222222221111112221111111111111122221111111111111111111122221111111112222112222222221111122211111111111111111111111222112222211111222111111111111222211111122211111111112222221111122211111111111111111111111222211122222221111111111111111111111122211111111111111111222111111111111111111111111222111111111111122222111111111111111111111111111112221111111111111111111111222211111111111111111111111111111111111111111111111111111111111111111111111111111111111111111111111111111111111111111111111111111222222221111111111111111111111111111122222222222211111111111122221111111111111111111111111111111111111111111111111111122211111111111111111111111112221111111111111111111122221111111112221111111111111111111111111111111112221111111111111222211111111111111111111111111222222211111111111111111111111111111112221111111111111111111222211111111111111111222222221111111111111111111111111111111111111111111111111111111111111122211111122211111111111111111111111111111111111111111111111111111111122211111122222222222222211122222111112222222222111111111111111111112222211111111111111111111111111111111111111111111111111111111111111111111111111111111111222222211111111111122222222211111111111222111222222221111222222222112222111111111111111222221111122222111222222222222211111111111122222222222221111111111111122221111111111111111122221111111111222222222222211222222222222222222222222222222211111111112222111222222211111111111111122221111111111222222222112221111111222221111222222111122222111112222221111111111111122222221111122222222221111111222222211111111122221111122222211111112222222222222211111111122211111111111111111111222222222111111111111222222222222222222211111111122221111112222111122222211111111111111111112221111111222111122222222221111111111111111122222222221111222111122211111111222222222222222111222222221111222211122222222222222211122211112222222222222222111111111111111122222222222222222211111111111111111111111111222211111111222111111111111111111111111111111111111111111111111111111111111111122221111111111112222222222222222111111111111111111111111222211111111111111111111111111111222111111111111111111111111111111111111111111111122211111111111111111111111111111111111111222222222222222222222221111111111111111122211222221111111111111111111222211122221111111112222222211111111111111111111111111111111111111111222221111111111111111111111111222222111111111111111111112222111111111111111111122222222111111222221111111111111111111111122222211111112221122222222222222222221111222222222221111222222222222222222221111112222222211112222222222222222222112222112222111112222111111112222222112222112222221111111111122222222111111111111111111111222111111111111111112221111111111111111111222222211111111122222211111111111111122222222222222221111222221111111111112222222112222111111111222211111222111122222221111111122222222222222211111111111112221111111111111222111111111111111111111111111111111111111111111122222222111111111111122222222211111111111111111111222111111111111111111111111222111111111111111111112221111112222222222111222222222222111122221112221111222222222221111111111112222211111111111111111111111111111112221111111122211111222111111111111111111111111111112221122222111111111111111111111111111111111111111111111111111111111111111222222211111111222222211111111111111111111111111111111111111111222111111111111111122222111111111111111111111111111111111111112222211111111111111111111111122222221111111111111111111111111111111111222222222221111111111111111111111111111111111111111111111111111111111111111111111111111112222211111111111111111111122222111111111222221111111222211111111112222111111111111222221111111111111111111111111111111111111111111111111111111111111111111122222221111111111111111111111112222211111111111111111111111111111111111111111111111111111111111111111111111111111111111111222211122221111111111111111111111111222221112222222222222111222221111111111112222222222222222221111222211111111111222222222211111111111111112221111111222111111112221122222211111112222222221111111111111111111111111111111111111111111111111111111111111111111111111111111111111111111111111111111111111111111111111111111111111111111111111111111111111111111111111111111111111111111111111111111112221111111111111111112221111111111111111112221111111111111111111111111111111111111111111112221122211111112222111111111111111111122221111111122222221111111111111111111111111111111111222211111111111111111111111111222111111111222221111111111122221112222222222222111111111111111111111111111111111111111111111111111122222211111111111111111222111111111111111111111111111111111112222211111111111111111111111111111111111111111111111111111111111111111111111111111122222222222222222222111111111111111111111111222111111122221111111111111111111111111122222221111111122221111111111111111111111111111111111111111111111111111111111111111111111111111111111111111111111111222111111111111111111111111111122221111111111112222222211111111111111111111222211111111111122222111111111111111111111111111111122211111112222221112222221111111112221111111111222112221111122221112222221111111122221112222222211111112222222211222222222222111122211122222111111122222221111111222222222222222211122211111111111122222222221112221111112222221111111111111111111111111111111111111111111111111111111111111111111222111111112222111111111111112222111111111111111222222211111111111111111111111111111111111111111111111111111222111111111111111111111111111111111111111111111122211111111111111111111111111111111111111111111111111111111111111111111111222211111111111111111111111111112222112222221111122222222222211111111111111222222211111112221122222222222211111111112222211111122211111111111111111222111111122222222221122222222111111111112222222211111111111111112222222222222222211111122222222111111111111111111111222222222111111111111111111111222111111111122211111122222111111222111111111111111112222211111112221111111111111122222111222222222222111111111111111111111111111111111111111111111111111111111111111111111111222111111111111122211111111111111111111111111111111111111122211111112222111111222221111112221111111111111111222112222222111111112222211122211111111111111112221111111111111111111111111111111111222221111111112222222222222111111222211111111111111122211111112221111111111111111111111111111111111111111111111111111111111111111122211111111111111111111111111111111111111111111111111111111111111111111111111222211111111111111111111111111111111111111111111111122222211111122221111111111111111111111111111111111111111111111222222111111111111122222222111111111111111111122222221111111111111111111111111111111111111111111111112221111111111111111111111111111111111111111111111111111111111112221111111111122211111111111111111111111111111111111111111222211111111111111111111111111111111111111111111111111122211222112222211111111222211111111111111111122222111111111111111111111111111111111111111111112222211111111222111111111111111111111112222111111111122221111222111111112222111111111112221111111111111111111111111111111111111111111111111111111122211111111111111111111111111122222111111111111112222222222111111111222211111111111111122222221112221111111111111111111111111122222111111111111111122211111111111111111111111111122211111122211111122222221111111111111111111111222211122222211111122211111111111122222211111122211111222222211111111111111112221111122211122222222111111111111111111111112221122211222111111111111222221111111111111112222221111111111111222221111222211111111122222222222211111111111111111111111111122211111111111111111111111111111111111111111111111122222112222211111111111111111111111111111111111222221111111111111222222222222111112221111111111111111111111111222222111122211111111111222222222221111111111111111111111111111111111111111111111111111112222111111112222221111111111111111111111111111111111111111111111111111111111111111111111111111111111111111111111111112222222211111111111111111111111111111111122211111222111111111122221111111111111112222221122222222222222222211111222222111111111111112222222222222222211112222222221112222211111112222222111122222111111222222211111222221111111122222222221111222111111122222222222222222111111111111112222222222222111111111111111122222111111222222222112222222111222222111222222222222111111111111111111111111111111111111111111111111111111111111111111111111111111111111112221111111111111111111111111111111111111111111111111111111111112222222222222222222222111111111111222111122222211111111111111111111111111111111111111111111111111111111111111122221111111111111111111111111222211122222222222111222211111111111111111111111111122222222222111111112222222222221111112222211111111111122222111111111111112222222211122222111111122211111111111222211111112222211111111111111111111111111111111111111111111111111111111111111222221111111111111111111111111122211111111111111111111111111111111111111111111111111111111112221111111111111111111111111111111111111111111111111112221111111111111111111111111111122211111111111222222222111222222222222211111111111122211111111122222221111111111112221111112221111111111111111111111111111111111122222211111111111111111111111111222221111111111111111111111111111112221122222222111111111111111111111222111111111111222222222111222111112221111111111111111111111111122221111111111111111111111111111111111222211112222221111111111112222211111111122222111111111111112221111111111122221111122221111111222112222222211111111111111111111111111111111111111222211111111111111111111111111111111111112222211122211111112221111111112222222221111111122211111222111112222111111111111111111111111112222222111222221111111111222222111111122222111111111111111111112222222221111111111222222222111111111111111111111111222111122222222222221111222221111222111111111111111111222111111111111111111111111111111111111111111111111111111111111111111111111111111111111111111111111111111111222111111111122211111111111111122222211111111111111111112222222222222222221111111111111111111111111222211111111222222222111111111111111111122222222111111111111111112221111111122211111111111111111111111222111111111111111111111112221111111111111111111111111111111111111111111111222221111111111111111111111111111111111111111111111122222221111111111111122211111111112222111111111111111111112221111111111112222222222111111111111111111111222111111111111111111111111111111111111111111111112221111111111222111222111111111111111111111111111111111111111111111111112222221111222111222111111111112222211222221111111112221112222222222222222222221112222111111111111222222111111222221111111111222111111111122222222222222222111112222111222111122211111111111111111111111111111111111111111222111111111111111122221111111222111111111111112221111111111111111111111111111111111111111111111111111111111111112221111111122211111111111111111111111111111222221111111222222222222112221111111111111111112221111111111111111111111111111111111111111111111111111111111111111111111111111111111111111111111111111111111111111111111111111111111111111111111111111111122211111112222211111111111111111111222211111122222221111222211111111111111111111112221111111112221112222211111111111111111111111111111111111111111111111111111111111111111111111111111111122222211111111222222111111111111111111111111122222222111111122211111111111111111111111111111111111111111111111122222221111111111111111111111111111111111111111111111112221111111111111111111111111222211111111111111111111111111111111111111111111111111111111222222211111111111111122222111111111111111111111122211111111111111111111111111111111111111111111111222111111111111111222111111111111111111111111111111111222222222221111111111111111111111111111122211111111111111111111111111122221111111111111111222211222111111111122221122221122211111111222111111111111111111111111111122222111111111111111111111111111111111111111112222111111111111111111111111111111111111111111111111111222221111111122221111111111111111111111111111111111111111112222211111111112221111111111111111111111111111111111111111111111111111111111111111111111111111111111111111111111111111111111111111111111111111122222211112222111111111111111111111111111111111111111111111111111111111111111111111111111111111111111111111111111111111111222211111111122211111111222221111111111111222222222111222222211122211111111111111111111111111111111111111111111111111111111111111111111111111111111111111111111111111111111111112222111111111111111111111111111111111122211111111111111111111122211111111111111111111111111111111111111111111111111111111111111112222222221122211111111122221112222111111112222211122222211111222222222222222111111111111111111111111111111111111111111111111111111111111122222221111111111111111111111111111111222111111111111111111111112222111111111111111111111111111111111222211111111111111111111111111111122221111111111111111111111111111111111111111111111111111112222222222222222211111111111111111111111122221111111111111111111111111111122221111111111111111111111111111111111111111111111111111111111111111111111111111111111111222222222222222221111111222111111111111111111111111111111111112221111111111111111111111122211111111111122221111111111111111111111111111111111111222111111111111111111111111111111111111122222221111111111111112221111111111111111111112222111112221111111111111111111111111111111111122211111111111111111111111112221111111111111122211111111112221111111111111111111111111222111111111111112221111111111111111111111111222111111122222222211111111111111111111111111111111111111111111111122222211111112222211111111111122221111111111111222111222221111111111111111111222222111111111112222221111112222221112222222222222111222222221111111111111112222222222222222111111122211111111122211112222221111111122221111222222222222222211111112221111111111112221111111111111111111111111111111111111111122221111111111111122222111111222211111222211111111111111112221111111111111111111111111111111112222111111111122222221111111111111111111111111111111111111111111222222221122222211112222111111111111122221111111111111111111112222222222111111222222222111111111111122222111111111122222211111111112222221111111111122211112222221111111111112221111122221111122222221112222222111111111222111111222111111111111111111111111111222221111111112222211111111111111222222222222222222111111111222222111112221111122222211122222222111111122222211111222222222222211111122211111111122222111112222111111111111112221111111111111111111111111111111111111122222222111222222222112222222222111112222222111222211112222221111122222111111111111111112222221111112222222221111111111111111111111111111111111222211111111222111111111111111111111111111111111111122222111111112222222222111111111111111111122222222222222222111111111111111111111111222211111111111111111111111111111222211111111111111111111111111111111111111111111111111111111111111111111111111111111111112222222222222221111111112222111111111111111111111111111111111111111112221111111122211111111111111111111111111111111111111111111222221111111111112222222211122221111112222222211111111111111112221111111111111111111112221111122222111111111111111111111111111112222211111111111112222222111222222222211111222221122221112222222111122222111111111112222222222112222111222222222222221111222222222111111111111111111122221111111111222222111111122222221111111111222211112222222211122222111111111122222222111111111111111112221122222111122221112222211111111112222222222211111111111111111111111111111111111111112222111111111111112222111111111111111111111111222111122211111122222211111111222211111122222222222222222111111111111111112222111111111112221122211122222111222111111111122222222222221111111111112222222211111112221111122222111112221122211222222111111112222222211111111111111111111111111111111111111111111111111111111111111111111222111111111111222221111111111111111111111222111111111111111111111111111111111111111111111111111122222111111111111111111111111222211111111111111111111111111111111122211112222222222111111111111111111111111111111111111111111111122221111111111122211111112222111111111111111111111111111122211111111111111111222222222222211111111111111222211122222222222222222222221111112222111222222211122222222211111111111112221111111111111111122221111222112222111111111111111111111111111111111111111111111111222111111111111111111111111222222222111111122221111111111111111222211111111111111111111111111111111111111111111111222222211111111112222211112222222222222111111111111111111111111111111122222222222222222211122221122222211111112221111111111111111111112222222222222222222111111122222222222222222211222111111111222222211111111122221111122211111111111122211222111111111111111111111111111111111111111111111111122222222222111112222211111111111111111111222111111111222111111111111111111111111111111222111111112222111111112221111111111111111111111111122211111111222211111222111111122221111111111222111111111111111111112221111111111111111122211111111111111111111111111222211111111111111122211122222222111111111122222222222222222111111222222222222111111111111111111111111111122211111111111111111111111111111111111111111111111111111112221111111111111111111111111111111111111111111111111111111112222222222222222221111111111122211111111111111111111111111111111111111111111111111111111111111111111111111122221111111111111111111111111111111222222211111111111111111222222211111112221111111111111111112222111111122211112221111111111111111112222111111111112222222222222222222222222111111111111111222221111111111111222222222211122222222211122222211111111111111111111111111122211111111111122211112222111111111111111112222221111111111111111111111111111111111222211111111111111111122211111111111111111111111111112222211111111111111111111111222221111111111111111111111111111111111222111111112221111222221111122211122222222222222222111111111111111222111111111112222111122222211122211111112222111122222222222221111111112222222111111111222222211111111222111111111111111111122221111111111112222222111111111111111111111111111111111111122222222222111222111111111111111111111111222211111111111111111111111111111222111111111111111111111111111111111111112221111222211111111111111111111111112222111111111222222222222222222222222222222111111111111111111112221111111111122211111111111111111111112221111111111122211111111111222111111111111111111112222211111111111112222111111111112222222211111122222222222222111111112221111111111111122222221122222111112221112222211111111122222211111111111111111111111111112222111111111111111111111111111111111111111111111111111111111111111111111111111111111111111111111111111111111111111222222211111222211222211222111111111111111111111111111222222222222222222222112221111111222222222222211111111111222211111222221111222221111111112222222221111112222211112222222222222222111111111111111111111111111111111112222111111112221111111111111111111111111111111111122211111111111111111111111111111111111111122222222222222222111111111111111111111111111111111111111111111111111111222211111111111111111111111111111111111111111111111111111111111111222111111111111111112222222222221122222222222222222221111111111111111111111111111111111111111111111111112222222222111111111111111111111111111122211111111111111111111111111111222222222221111111111111111112222111122222211111222221111111111111111111111111122222222222222222222222111222211112222222111111111111111111111111111222211111111222111111111111111111111111111111111111111111111111111111111111112221111111111111122222222222222222111111111111111111111111222211111111111111111111111111111222222221111111111111111111111111111111111111111111111111111111111111111111111111111111111222222221111222211111111111122211111111112221111222211111111111111222211111111111112221112222222221111111111111112222111222221122222211111222222222222222222221111111112222222211112222222211122222222222222211112222112222222221111111111122221111122211111122222221111111112222222222222111222222222111111111111111112222222222221111111222211122222222211122211111111111111111111111111111111111111111111111111111111111111111111111111112221111111111122211122\n"
          ],
          "name": "stdout"
        }
      ]
    },
    {
      "cell_type": "code",
      "metadata": {
        "id": "YMSjNYyZbQqJ",
        "colab_type": "code",
        "colab": {
          "base_uri": "https://localhost:8080/",
          "height": 34
        },
        "outputId": "009fa09b-db38-436f-e00c-3affe9773308"
      },
      "source": [
        "time.time()"
      ],
      "execution_count": null,
      "outputs": [
        {
          "output_type": "execute_result",
          "data": {
            "text/plain": [
              "1598793198.7886453"
            ]
          },
          "metadata": {
            "tags": []
          },
          "execution_count": 49
        }
      ]
    },
    {
      "cell_type": "code",
      "metadata": {
        "id": "AtkBKABwWAQk",
        "colab_type": "code",
        "colab": {
          "base_uri": "https://localhost:8080/",
          "height": 34
        },
        "outputId": "2606692f-93b3-44ff-cfa4-cf7236edde0e"
      },
      "source": [
        "print ('記憶體使用：',psutil.Process(os.getpid()).memory_info().rss)"
      ],
      "execution_count": null,
      "outputs": [
        {
          "output_type": "stream",
          "text": [
            "記憶體使用： 144969728\n"
          ],
          "name": "stdout"
        }
      ]
    }
  ]
}